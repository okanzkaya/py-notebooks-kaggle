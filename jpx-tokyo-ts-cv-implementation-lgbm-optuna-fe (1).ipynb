{
 "cells": [
  {
   "cell_type": "markdown",
   "id": "e62d1969",
   "metadata": {
    "papermill": {
     "duration": 0.005342,
     "end_time": "2022-06-25T04:22:19.283533",
     "exception": false,
     "start_time": "2022-06-25T04:22:19.278191",
     "status": "completed"
    },
    "tags": []
   },
   "source": [
    "# Preamble\n",
    "\n",
    "**I have seen some of the notebook which are using regular CV methods for time series data, I wanted to implement TS-CV technique by myself.**\n",
    "\n",
    "**Unfortunately, I couldn't manage to find a good implementation of TS-CV library, so I have created algorithm by myself.**"
   ]
  },
  {
   "cell_type": "markdown",
   "id": "53327441",
   "metadata": {
    "papermill": {
     "duration": 0.003141,
     "end_time": "2022-06-25T04:22:19.290344",
     "exception": false,
     "start_time": "2022-06-25T04:22:19.287203",
     "status": "completed"
    },
    "tags": []
   },
   "source": [
    "# Config Parameters and Imports"
   ]
  },
  {
   "cell_type": "code",
   "execution_count": 1,
   "id": "6087d75d",
   "metadata": {
    "execution": {
     "iopub.execute_input": "2022-06-25T04:22:19.300091Z",
     "iopub.status.busy": "2022-06-25T04:22:19.299135Z",
     "iopub.status.idle": "2022-06-25T04:22:19.312066Z",
     "shell.execute_reply": "2022-06-25T04:22:19.311372Z"
    },
    "papermill": {
     "duration": 0.020367,
     "end_time": "2022-06-25T04:22:19.314051",
     "exception": false,
     "start_time": "2022-06-25T04:22:19.293684",
     "status": "completed"
    },
    "tags": []
   },
   "outputs": [],
   "source": [
    "# You can tweak the hyperparameters for different results.\n",
    "# Best Model Hyperparameters (Optuna) {'num_leaves': 2818, 'n_estimators': 713, 'max_bin': 100, 'learning_rate': 0.6268164565853203} = Score: 0.537631972137107.\n",
    "class CFG:\n",
    "    Debug = False # Enable/Disable debug mode True = Enable, False = Disable\n",
    "    \n",
    "    folds = 5\n",
    "    val_ratio = 20 # validation dataset to train dataset ratio in % format\n",
    "    \n",
    "    mean = True # if it is True, submission API uses the mean value of our folds, uses median value if it is False.\n",
    "    \n",
    "    seed = 1889\n",
    "    LR = 0.6268164565853203\n",
    "    num_leaves = 2818\n",
    "    n_estimators = 713\n",
    "    max_bin = 100"
   ]
  },
  {
   "cell_type": "code",
   "execution_count": 2,
   "id": "ae3fe36f",
   "metadata": {
    "_cell_guid": "b1076dfc-b9ad-4769-8c92-a6c4dae69d19",
    "_uuid": "8f2839f25d086af736a60e9eeb907d3b93b6e0e5",
    "execution": {
     "iopub.execute_input": "2022-06-25T04:22:19.322513Z",
     "iopub.status.busy": "2022-06-25T04:22:19.321939Z",
     "iopub.status.idle": "2022-06-25T04:22:21.058925Z",
     "shell.execute_reply": "2022-06-25T04:22:21.057781Z"
    },
    "papermill": {
     "duration": 1.744045,
     "end_time": "2022-06-25T04:22:21.061668",
     "exception": false,
     "start_time": "2022-06-25T04:22:19.317623",
     "status": "completed"
    },
    "tags": []
   },
   "outputs": [
    {
     "data": {
      "text/html": [
       "<style type='text/css'>\n",
       ".datatable table.frame { margin-bottom: 0; }\n",
       ".datatable table.frame thead { border-bottom: none; }\n",
       ".datatable table.frame tr.coltypes td {  color: #FFFFFF;  line-height: 6px;  padding: 0 0.5em;}\n",
       ".datatable .bool    { background: #DDDD99; }\n",
       ".datatable .object  { background: #565656; }\n",
       ".datatable .int     { background: #5D9E5D; }\n",
       ".datatable .float   { background: #4040CC; }\n",
       ".datatable .str     { background: #CC4040; }\n",
       ".datatable .time    { background: #40CC40; }\n",
       ".datatable .row_index {  background: var(--jp-border-color3);  border-right: 1px solid var(--jp-border-color0);  color: var(--jp-ui-font-color3);  font-size: 9px;}\n",
       ".datatable .frame tbody td { text-align: left; }\n",
       ".datatable .frame tr.coltypes .row_index {  background: var(--jp-border-color0);}\n",
       ".datatable th:nth-child(2) { padding-left: 12px; }\n",
       ".datatable .hellipsis {  color: var(--jp-cell-editor-border-color);}\n",
       ".datatable .vellipsis {  background: var(--jp-layout-color0);  color: var(--jp-cell-editor-border-color);}\n",
       ".datatable .na {  color: var(--jp-cell-editor-border-color);  font-size: 80%;}\n",
       ".datatable .sp {  opacity: 0.25;}\n",
       ".datatable .footer { font-size: 9px; }\n",
       ".datatable .frame_dimensions {  background: var(--jp-border-color3);  border-top: 1px solid var(--jp-border-color0);  color: var(--jp-ui-font-color3);  display: inline-block;  opacity: 0.6;  padding: 1px 10px 1px 5px;}\n",
       "</style>\n"
      ],
      "text/plain": [
       "<IPython.core.display.HTML object>"
      ]
     },
     "metadata": {},
     "output_type": "display_data"
    }
   ],
   "source": [
    "import numpy as np\n",
    "\n",
    "import pandas as pd \n",
    "pd.options.mode.chained_assignment = None \n",
    "\n",
    "from lightgbm import LGBMRegressor\n",
    "\n",
    "#from sklearn.model_selection import train_test_split\n",
    "from sklearn.metrics import mean_squared_error\n",
    "#from sklearn.model_selection import cross_val_score\n",
    "\n",
    "from decimal import ROUND_HALF_UP, Decimal\n",
    "\n",
    "#import optuna"
   ]
  },
  {
   "cell_type": "markdown",
   "id": "d774943c",
   "metadata": {
    "papermill": {
     "duration": 0.003285,
     "end_time": "2022-06-25T04:22:21.068725",
     "exception": false,
     "start_time": "2022-06-25T04:22:21.065440",
     "status": "completed"
    },
    "tags": []
   },
   "source": [
    "# Import Data and Handle Invalid Values\n",
    "\n",
    "**Be careful, do not drop NaN values before dropping Expected Dividend features, it causes a major issue.**"
   ]
  },
  {
   "cell_type": "code",
   "execution_count": 3,
   "id": "78d06280",
   "metadata": {
    "execution": {
     "iopub.execute_input": "2022-06-25T04:22:21.078387Z",
     "iopub.status.busy": "2022-06-25T04:22:21.077186Z",
     "iopub.status.idle": "2022-06-25T04:22:27.002950Z",
     "shell.execute_reply": "2022-06-25T04:22:27.001796Z"
    },
    "papermill": {
     "duration": 5.932609,
     "end_time": "2022-06-25T04:22:27.005057",
     "exception": false,
     "start_time": "2022-06-25T04:22:21.072448",
     "status": "completed"
    },
    "tags": []
   },
   "outputs": [
    {
     "data": {
      "text/plain": [
       "RowId               0\n",
       "Date                0\n",
       "SecuritiesCode      0\n",
       "Open                0\n",
       "High                0\n",
       "Low                 0\n",
       "Close               0\n",
       "Volume              0\n",
       "AdjustmentFactor    0\n",
       "SupervisionFlag     0\n",
       "Target              0\n",
       "dtype: int64"
      ]
     },
     "execution_count": 3,
     "metadata": {},
     "output_type": "execute_result"
    }
   ],
   "source": [
    "train_df = pd.read_csv('../input/jpx-tokyo-stock-exchange-prediction/train_files/stock_prices.csv')\n",
    "train_df = train_df.drop(['ExpectedDividend'], axis=1) # trivial imo\n",
    "#train_df = train_df.dropna() # DO NOT!\n",
    "train_df.interpolate(method='linear', inplace=True) # pandas interpolation fills NaN values with the mean of two upper and lower neighbour values.\n",
    "train_df.isnull().sum()"
   ]
  },
  {
   "cell_type": "markdown",
   "id": "dd6126b3",
   "metadata": {
    "papermill": {
     "duration": 0.003553,
     "end_time": "2022-06-25T04:22:27.012357",
     "exception": false,
     "start_time": "2022-06-25T04:22:27.008804",
     "status": "completed"
    },
    "tags": []
   },
   "source": [
    "**Here, we are adjusting the close price according to Adjustment Factor. It is important, because adjustment factor is not comprehensive for our model.**"
   ]
  },
  {
   "cell_type": "code",
   "execution_count": 4,
   "id": "9fa700fb",
   "metadata": {
    "execution": {
     "iopub.execute_input": "2022-06-25T04:22:27.021584Z",
     "iopub.status.busy": "2022-06-25T04:22:27.021025Z",
     "iopub.status.idle": "2022-06-25T04:22:42.820683Z",
     "shell.execute_reply": "2022-06-25T04:22:42.819413Z"
    },
    "papermill": {
     "duration": 15.807277,
     "end_time": "2022-06-25T04:22:42.823347",
     "exception": false,
     "start_time": "2022-06-25T04:22:27.016070",
     "status": "completed"
    },
    "tags": []
   },
   "outputs": [],
   "source": [
    "# https://www.kaggle.com/code/smeitoma/train-demo\n",
    "def adjust_price(price):\n",
    "    \"\"\"\n",
    "    Args:\n",
    "        price (pd.DataFrame)  : pd.DataFrame include stock_price\n",
    "    Returns:\n",
    "        price DataFrame (pd.DataFrame): stock_price with generated AdjustedClose\n",
    "    \"\"\"\n",
    "    # transform Date column into datetime\n",
    "    price.loc[: ,\"Date\"] = pd.to_datetime(price.loc[: ,\"Date\"], format=\"%Y-%m-%d\")\n",
    "\n",
    "    def generate_adjusted_close(df):\n",
    "        \"\"\"\n",
    "        Args:\n",
    "            df (pd.DataFrame)  : stock_price for a single SecuritiesCode\n",
    "        Returns:\n",
    "            df (pd.DataFrame): stock_price with AdjustedClose for a single SecuritiesCode\n",
    "        \"\"\"\n",
    "        # sort data to generate CumulativeAdjustmentFactor\n",
    "        df = df.sort_values(\"Date\", ascending=False)\n",
    "        # generate CumulativeAdjustmentFactor\n",
    "        df.loc[:, \"CumulativeAdjustmentFactor\"] = df[\"AdjustmentFactor\"].cumprod()\n",
    "        # generate AdjustedClose\n",
    "        df.loc[:, \"AdjustedClose\"] = (\n",
    "            df[\"CumulativeAdjustmentFactor\"] * df[\"Close\"]\n",
    "        ).map(lambda x: float(\n",
    "            Decimal(str(x)).quantize(Decimal('0.1'), rounding=ROUND_HALF_UP)\n",
    "        ))\n",
    "        # reverse order\n",
    "        df = df.sort_values(\"Date\")\n",
    "        # to fill AdjustedClose, replace 0 into np.nan\n",
    "        df.loc[df[\"AdjustedClose\"] == 0, \"AdjustedClose\"] = np.nan\n",
    "        # forward fill AdjustedClose\n",
    "        df.loc[:, \"AdjustedClose\"] = df.loc[:, \"AdjustedClose\"].ffill()\n",
    "        return df\n",
    "\n",
    "    # generate AdjustedClose\n",
    "    price = price.sort_values([\"SecuritiesCode\", \"Date\"])\n",
    "    price = price.groupby(\"SecuritiesCode\").apply(generate_adjusted_close).reset_index(drop=True)\n",
    "\n",
    "    price.set_index(\"Date\", inplace=True)\n",
    "    return price\n",
    "train_df = adjust_price(train_df)"
   ]
  },
  {
   "cell_type": "code",
   "execution_count": 5,
   "id": "d50544c5",
   "metadata": {
    "execution": {
     "iopub.execute_input": "2022-06-25T04:22:42.832501Z",
     "iopub.status.busy": "2022-06-25T04:22:42.832120Z",
     "iopub.status.idle": "2022-06-25T04:22:42.859774Z",
     "shell.execute_reply": "2022-06-25T04:22:42.858524Z"
    },
    "papermill": {
     "duration": 0.034837,
     "end_time": "2022-06-25T04:22:42.862061",
     "exception": false,
     "start_time": "2022-06-25T04:22:42.827224",
     "status": "completed"
    },
    "tags": []
   },
   "outputs": [
    {
     "data": {
      "text/html": [
       "<div>\n",
       "<style scoped>\n",
       "    .dataframe tbody tr th:only-of-type {\n",
       "        vertical-align: middle;\n",
       "    }\n",
       "\n",
       "    .dataframe tbody tr th {\n",
       "        vertical-align: top;\n",
       "    }\n",
       "\n",
       "    .dataframe thead th {\n",
       "        text-align: right;\n",
       "    }\n",
       "</style>\n",
       "<table border=\"1\" class=\"dataframe\">\n",
       "  <thead>\n",
       "    <tr style=\"text-align: right;\">\n",
       "      <th></th>\n",
       "      <th>RowId</th>\n",
       "      <th>SecuritiesCode</th>\n",
       "      <th>Open</th>\n",
       "      <th>High</th>\n",
       "      <th>Low</th>\n",
       "      <th>Close</th>\n",
       "      <th>Volume</th>\n",
       "      <th>AdjustmentFactor</th>\n",
       "      <th>SupervisionFlag</th>\n",
       "      <th>Target</th>\n",
       "      <th>CumulativeAdjustmentFactor</th>\n",
       "      <th>AdjustedClose</th>\n",
       "    </tr>\n",
       "    <tr>\n",
       "      <th>Date</th>\n",
       "      <th></th>\n",
       "      <th></th>\n",
       "      <th></th>\n",
       "      <th></th>\n",
       "      <th></th>\n",
       "      <th></th>\n",
       "      <th></th>\n",
       "      <th></th>\n",
       "      <th></th>\n",
       "      <th></th>\n",
       "      <th></th>\n",
       "      <th></th>\n",
       "    </tr>\n",
       "  </thead>\n",
       "  <tbody>\n",
       "    <tr>\n",
       "      <th>2017-01-04</th>\n",
       "      <td>20170104_1301</td>\n",
       "      <td>1301</td>\n",
       "      <td>2734.0</td>\n",
       "      <td>2755.0</td>\n",
       "      <td>2730.0</td>\n",
       "      <td>2742.0</td>\n",
       "      <td>31400</td>\n",
       "      <td>1.0</td>\n",
       "      <td>False</td>\n",
       "      <td>0.000730</td>\n",
       "      <td>1.0</td>\n",
       "      <td>2742.0</td>\n",
       "    </tr>\n",
       "    <tr>\n",
       "      <th>2017-01-05</th>\n",
       "      <td>20170105_1301</td>\n",
       "      <td>1301</td>\n",
       "      <td>2743.0</td>\n",
       "      <td>2747.0</td>\n",
       "      <td>2735.0</td>\n",
       "      <td>2738.0</td>\n",
       "      <td>17900</td>\n",
       "      <td>1.0</td>\n",
       "      <td>False</td>\n",
       "      <td>0.002920</td>\n",
       "      <td>1.0</td>\n",
       "      <td>2738.0</td>\n",
       "    </tr>\n",
       "    <tr>\n",
       "      <th>2017-01-06</th>\n",
       "      <td>20170106_1301</td>\n",
       "      <td>1301</td>\n",
       "      <td>2734.0</td>\n",
       "      <td>2744.0</td>\n",
       "      <td>2720.0</td>\n",
       "      <td>2740.0</td>\n",
       "      <td>19900</td>\n",
       "      <td>1.0</td>\n",
       "      <td>False</td>\n",
       "      <td>-0.001092</td>\n",
       "      <td>1.0</td>\n",
       "      <td>2740.0</td>\n",
       "    </tr>\n",
       "    <tr>\n",
       "      <th>2017-01-10</th>\n",
       "      <td>20170110_1301</td>\n",
       "      <td>1301</td>\n",
       "      <td>2745.0</td>\n",
       "      <td>2754.0</td>\n",
       "      <td>2735.0</td>\n",
       "      <td>2748.0</td>\n",
       "      <td>24200</td>\n",
       "      <td>1.0</td>\n",
       "      <td>False</td>\n",
       "      <td>-0.005100</td>\n",
       "      <td>1.0</td>\n",
       "      <td>2748.0</td>\n",
       "    </tr>\n",
       "    <tr>\n",
       "      <th>2017-01-11</th>\n",
       "      <td>20170111_1301</td>\n",
       "      <td>1301</td>\n",
       "      <td>2748.0</td>\n",
       "      <td>2752.0</td>\n",
       "      <td>2737.0</td>\n",
       "      <td>2745.0</td>\n",
       "      <td>9300</td>\n",
       "      <td>1.0</td>\n",
       "      <td>False</td>\n",
       "      <td>-0.003295</td>\n",
       "      <td>1.0</td>\n",
       "      <td>2745.0</td>\n",
       "    </tr>\n",
       "    <tr>\n",
       "      <th>...</th>\n",
       "      <td>...</td>\n",
       "      <td>...</td>\n",
       "      <td>...</td>\n",
       "      <td>...</td>\n",
       "      <td>...</td>\n",
       "      <td>...</td>\n",
       "      <td>...</td>\n",
       "      <td>...</td>\n",
       "      <td>...</td>\n",
       "      <td>...</td>\n",
       "      <td>...</td>\n",
       "      <td>...</td>\n",
       "    </tr>\n",
       "    <tr>\n",
       "      <th>2021-11-29</th>\n",
       "      <td>20211129_9997</td>\n",
       "      <td>9997</td>\n",
       "      <td>678.0</td>\n",
       "      <td>679.0</td>\n",
       "      <td>665.0</td>\n",
       "      <td>668.0</td>\n",
       "      <td>320800</td>\n",
       "      <td>1.0</td>\n",
       "      <td>False</td>\n",
       "      <td>0.026987</td>\n",
       "      <td>1.0</td>\n",
       "      <td>668.0</td>\n",
       "    </tr>\n",
       "    <tr>\n",
       "      <th>2021-11-30</th>\n",
       "      <td>20211130_9997</td>\n",
       "      <td>9997</td>\n",
       "      <td>670.0</td>\n",
       "      <td>689.0</td>\n",
       "      <td>667.0</td>\n",
       "      <td>667.0</td>\n",
       "      <td>296300</td>\n",
       "      <td>1.0</td>\n",
       "      <td>False</td>\n",
       "      <td>-0.001460</td>\n",
       "      <td>1.0</td>\n",
       "      <td>667.0</td>\n",
       "    </tr>\n",
       "    <tr>\n",
       "      <th>2021-12-01</th>\n",
       "      <td>20211201_9997</td>\n",
       "      <td>9997</td>\n",
       "      <td>661.0</td>\n",
       "      <td>688.0</td>\n",
       "      <td>660.0</td>\n",
       "      <td>685.0</td>\n",
       "      <td>339100</td>\n",
       "      <td>1.0</td>\n",
       "      <td>False</td>\n",
       "      <td>0.017544</td>\n",
       "      <td>1.0</td>\n",
       "      <td>685.0</td>\n",
       "    </tr>\n",
       "    <tr>\n",
       "      <th>2021-12-02</th>\n",
       "      <td>20211202_9997</td>\n",
       "      <td>9997</td>\n",
       "      <td>681.0</td>\n",
       "      <td>692.0</td>\n",
       "      <td>680.0</td>\n",
       "      <td>684.0</td>\n",
       "      <td>342900</td>\n",
       "      <td>1.0</td>\n",
       "      <td>False</td>\n",
       "      <td>0.014368</td>\n",
       "      <td>1.0</td>\n",
       "      <td>684.0</td>\n",
       "    </tr>\n",
       "    <tr>\n",
       "      <th>2021-12-03</th>\n",
       "      <td>20211203_9997</td>\n",
       "      <td>9997</td>\n",
       "      <td>690.0</td>\n",
       "      <td>711.0</td>\n",
       "      <td>686.0</td>\n",
       "      <td>696.0</td>\n",
       "      <td>381100</td>\n",
       "      <td>1.0</td>\n",
       "      <td>False</td>\n",
       "      <td>0.018414</td>\n",
       "      <td>1.0</td>\n",
       "      <td>696.0</td>\n",
       "    </tr>\n",
       "  </tbody>\n",
       "</table>\n",
       "<p>2332531 rows × 12 columns</p>\n",
       "</div>"
      ],
      "text/plain": [
       "                    RowId  SecuritiesCode    Open    High     Low   Close  \\\n",
       "Date                                                                        \n",
       "2017-01-04  20170104_1301            1301  2734.0  2755.0  2730.0  2742.0   \n",
       "2017-01-05  20170105_1301            1301  2743.0  2747.0  2735.0  2738.0   \n",
       "2017-01-06  20170106_1301            1301  2734.0  2744.0  2720.0  2740.0   \n",
       "2017-01-10  20170110_1301            1301  2745.0  2754.0  2735.0  2748.0   \n",
       "2017-01-11  20170111_1301            1301  2748.0  2752.0  2737.0  2745.0   \n",
       "...                   ...             ...     ...     ...     ...     ...   \n",
       "2021-11-29  20211129_9997            9997   678.0   679.0   665.0   668.0   \n",
       "2021-11-30  20211130_9997            9997   670.0   689.0   667.0   667.0   \n",
       "2021-12-01  20211201_9997            9997   661.0   688.0   660.0   685.0   \n",
       "2021-12-02  20211202_9997            9997   681.0   692.0   680.0   684.0   \n",
       "2021-12-03  20211203_9997            9997   690.0   711.0   686.0   696.0   \n",
       "\n",
       "            Volume  AdjustmentFactor  SupervisionFlag    Target  \\\n",
       "Date                                                              \n",
       "2017-01-04   31400               1.0            False  0.000730   \n",
       "2017-01-05   17900               1.0            False  0.002920   \n",
       "2017-01-06   19900               1.0            False -0.001092   \n",
       "2017-01-10   24200               1.0            False -0.005100   \n",
       "2017-01-11    9300               1.0            False -0.003295   \n",
       "...            ...               ...              ...       ...   \n",
       "2021-11-29  320800               1.0            False  0.026987   \n",
       "2021-11-30  296300               1.0            False -0.001460   \n",
       "2021-12-01  339100               1.0            False  0.017544   \n",
       "2021-12-02  342900               1.0            False  0.014368   \n",
       "2021-12-03  381100               1.0            False  0.018414   \n",
       "\n",
       "            CumulativeAdjustmentFactor  AdjustedClose  \n",
       "Date                                                   \n",
       "2017-01-04                         1.0         2742.0  \n",
       "2017-01-05                         1.0         2738.0  \n",
       "2017-01-06                         1.0         2740.0  \n",
       "2017-01-10                         1.0         2748.0  \n",
       "2017-01-11                         1.0         2745.0  \n",
       "...                                ...            ...  \n",
       "2021-11-29                         1.0          668.0  \n",
       "2021-11-30                         1.0          667.0  \n",
       "2021-12-01                         1.0          685.0  \n",
       "2021-12-02                         1.0          684.0  \n",
       "2021-12-03                         1.0          696.0  \n",
       "\n",
       "[2332531 rows x 12 columns]"
      ]
     },
     "execution_count": 5,
     "metadata": {},
     "output_type": "execute_result"
    }
   ],
   "source": [
    "train_df"
   ]
  },
  {
   "cell_type": "markdown",
   "id": "7ac51160",
   "metadata": {
    "papermill": {
     "duration": 0.003663,
     "end_time": "2022-06-25T04:22:42.869814",
     "exception": false,
     "start_time": "2022-06-25T04:22:42.866151",
     "status": "completed"
    },
    "tags": []
   },
   "source": [
    "Nice."
   ]
  },
  {
   "cell_type": "markdown",
   "id": "a0208a88",
   "metadata": {
    "papermill": {
     "duration": 0.004022,
     "end_time": "2022-06-25T04:22:42.878636",
     "exception": false,
     "start_time": "2022-06-25T04:22:42.874614",
     "status": "completed"
    },
    "tags": []
   },
   "source": [
    "# LGBM Model Implementation and Time Series Cross Validation Implementation\n",
    "\n",
    "**My Loss Metric is MSE(Mean Squared Error), it is your optional choice.**"
   ]
  },
  {
   "cell_type": "markdown",
   "id": "babe7f5c",
   "metadata": {
    "_kg_hide-input": true,
    "papermill": {
     "duration": 0.003919,
     "end_time": "2022-06-25T04:22:42.887530",
     "exception": false,
     "start_time": "2022-06-25T04:22:42.883611",
     "status": "completed"
    },
    "tags": []
   },
   "source": [
    "\"\"\"# source: https://www.kaggle.com/code/swimmy/lgbm-model-fe-portfolio\n",
    "X = train_df[['SecuritiesCode', 'Open', 'High', 'Low', 'Close', 'Volume', 'AdjustmentFactor']] # we include only these parameters.\n",
    "y = train_df[['Target']]\n",
    "\n",
    "def objective(trial):\n",
    "    params = {\n",
    "            'num_leaves': trial.suggest_int('num_leaves', 300, 4000),\n",
    "            'n_estimators': trial.suggest_int('n_estimators', 10, 1000),\n",
    "            'max_bin': trial.suggest_int('max_bin', 2, 100),\n",
    "            'learning_rate': trial.suggest_uniform('learning_rate',0, 1),\n",
    "    }\n",
    "\n",
    "    model = LGBMRegressor(**params)\n",
    "    model.fit(X,y)\n",
    "    score = model.score(X,y)\n",
    "    return score\n",
    "\n",
    "opt = optuna.create_study(direction='maximize',sampler=optuna.samplers.RandomSampler(seed=CFG.seed))\n",
    "opt.optimize(objective, n_trials=20)\n",
    "\n",
    "trial = opt.best_trial\n",
    "params_best = dict(trial.params.items())\n",
    "params_best['random_seed'] = CFG.seed\n",
    "    \n",
    "new_model = LGBMRegressor(**params_best)\"\"\"\n",
    "\n",
    "{'num_leaves': 2818, 'n_estimators': 713, 'max_bin': 100, 'learning_rate': 0.6268164565853203} = 0.537631972137107.\n",
    "{'num_leaves': 2818, 'n_estimators': 713, 'max_bin': 100, 'learning_rate': 0.6268164565853203} = 0.537631972137107."
   ]
  },
  {
   "cell_type": "code",
   "execution_count": 6,
   "id": "cb03b8b7",
   "metadata": {
    "execution": {
     "iopub.execute_input": "2022-06-25T04:22:42.898056Z",
     "iopub.status.busy": "2022-06-25T04:22:42.897402Z",
     "iopub.status.idle": "2022-06-25T04:32:19.874470Z",
     "shell.execute_reply": "2022-06-25T04:32:19.873315Z"
    },
    "papermill": {
     "duration": 576.989234,
     "end_time": "2022-06-25T04:32:19.880802",
     "exception": false,
     "start_time": "2022-06-25T04:22:42.891568",
     "status": "completed"
    },
    "tags": []
   },
   "outputs": [
    {
     "name": "stdout",
     "output_type": "stream",
     "text": [
      "1. Fold MSE: 0.02324\n",
      "2. Fold MSE: 0.02465\n",
      "3. Fold MSE: 0.02220\n",
      "4. Fold MSE: 0.02136\n",
      "5. Fold MSE: 0.01844\n",
      "\n",
      "\n",
      "------------------------------\n",
      "\n",
      "Average MSE is: 0.02198\n"
     ]
    }
   ],
   "source": [
    "def split_group(df):\n",
    "    \"\"\"Splits groups by giving them unique labels.\"\"\"\n",
    "    df['fold'] = 0\n",
    "    num_split = len(df)//CFG.folds\n",
    "    next_val = 0\n",
    "    for i in range(1, CFG.folds+1):\n",
    "        df['fold'].iloc[num_split*next_val:num_split*(i)] = (i)\n",
    "        if (i) > next_val:\n",
    "            next_val = (i)\n",
    "    df.fold.loc[df['fold'] == 0] = CFG.folds\n",
    "    return df\n",
    "\n",
    "def LGBM_Model(X_train, y_train, X_val, y_val, i):\n",
    "    if CFG.Debug:\n",
    "        model = LGBMRegressor()\n",
    "    else:\n",
    "        model = LGBMRegressor(num_leaves= CFG.num_leaves, learning_rate = CFG.LR, n_estimators = CFG.n_estimators, max_bin=CFG.max_bin)\n",
    "    \n",
    "    model.fit(X_train, y_train)\n",
    "    preds = model.predict(X_val)\n",
    "    score = np.sqrt(mean_squared_error(y_val, preds))\n",
    "    print(f'{i}. Fold MSE: {score:.5f}')\n",
    "    return model, score\n",
    "\n",
    "def perc(num, percent):\n",
    "    \"\"\"Rounded percent calculator\"\"\"\n",
    "    return round(float(num/100)*percent)\n",
    "\n",
    "def tscv(raw_df):\n",
    "    \"\"\"Creates a time series cross validation method, you can specify your model and percentage.\"\"\"\n",
    "    df = raw_df.copy()\n",
    "    df = split_group(df)\n",
    "    models = []\n",
    "    errs = []\n",
    "    #last_num = 0\n",
    "    for i in range(1, CFG.folds+1):\n",
    "        \n",
    "        rest_df = df.loc[df['fold'] <= i]\n",
    "        tmp_df = df.loc[df['fold'] == i]\n",
    "        #print(tmp_df)\n",
    "        rest_df = rest_df.sort_values(\"Date\", ascending=True)\n",
    "        tmp_df = tmp_df.sort_values(\"Date\", ascending=True)\n",
    "        #print(rest_df)\n",
    "        \n",
    "\n",
    "        X_train = rest_df[0:-perc(len(tmp_df), CFG.val_ratio)]\n",
    "        y_train = rest_df[0:-perc(len(tmp_df), CFG.val_ratio)]\n",
    "        \n",
    "\n",
    "        X_val = tmp_df[-perc(len(tmp_df), CFG.val_ratio):-1] \n",
    "        y_val = tmp_df[-perc(len(tmp_df), CFG.val_ratio):-1]\n",
    "        \n",
    "        X_train = X_train[['Open', 'High', 'Low', 'AdjustedClose', 'Volume']] # we include only these parameters.\n",
    "        y_train = y_train[['Target']]\n",
    "        \n",
    "        X_val = X_val[['Open', 'High', 'Low', 'AdjustedClose', 'Volume']]\n",
    "        y_val = y_val[['Target']]\n",
    "        \n",
    "        model, err = LGBM_Model(X_train, y_train, X_val, y_val, i)\n",
    "        errs.append(err)\n",
    "        models.append(model)\n",
    "        if len(errs) == CFG.folds:\n",
    "            print('\\n')\n",
    "            print('-'*30)\n",
    "            print(f'\\nAverage MSE is: {np.mean(errs):.5f}')\n",
    "            \n",
    "        #if i == 3:\n",
    "         #   break\n",
    "    return models\n",
    "\n",
    "            \n",
    "models = tscv(train_df)"
   ]
  },
  {
   "cell_type": "markdown",
   "id": "21e1d144",
   "metadata": {
    "papermill": {
     "duration": 0.004104,
     "end_time": "2022-06-25T04:32:19.890337",
     "exception": false,
     "start_time": "2022-06-25T04:32:19.886233",
     "status": "completed"
    },
    "tags": []
   },
   "source": [
    "# Submit by Competition API"
   ]
  },
  {
   "cell_type": "code",
   "execution_count": 7,
   "id": "f459011b",
   "metadata": {
    "execution": {
     "iopub.execute_input": "2022-06-25T04:32:19.900824Z",
     "iopub.status.busy": "2022-06-25T04:32:19.900463Z",
     "iopub.status.idle": "2022-06-25T04:32:19.928858Z",
     "shell.execute_reply": "2022-06-25T04:32:19.927870Z"
    },
    "papermill": {
     "duration": 0.036632,
     "end_time": "2022-06-25T04:32:19.931198",
     "exception": false,
     "start_time": "2022-06-25T04:32:19.894566",
     "status": "completed"
    },
    "tags": []
   },
   "outputs": [],
   "source": [
    "import jpx_tokyo_market_prediction\n",
    "env = jpx_tokyo_market_prediction.make_env()\n",
    "iter_test = env.iter_test()"
   ]
  },
  {
   "cell_type": "code",
   "execution_count": 8,
   "id": "2c396177",
   "metadata": {
    "execution": {
     "iopub.execute_input": "2022-06-25T04:32:19.942282Z",
     "iopub.status.busy": "2022-06-25T04:32:19.941909Z",
     "iopub.status.idle": "2022-06-25T04:32:36.988100Z",
     "shell.execute_reply": "2022-06-25T04:32:36.985662Z"
    },
    "papermill": {
     "duration": 17.054941,
     "end_time": "2022-06-25T04:32:36.990995",
     "exception": false,
     "start_time": "2022-06-25T04:32:19.936054",
     "status": "completed"
    },
    "tags": []
   },
   "outputs": [
    {
     "name": "stdout",
     "output_type": "stream",
     "text": [
      "This version of the API is not optimized and should not be used to estimate the runtime of your code on the hidden test set.\n"
     ]
    }
   ],
   "source": [
    "for (stock_prices, options, financials, trades, secondary_prices, sample_prediction) in iter_test:\n",
    "    \n",
    "    stock_prices = adjust_price(stock_prices)\n",
    "    X_test = stock_prices[['Open', 'High', 'Low', 'AdjustedClose', 'Volume']]\n",
    "    preds = []\n",
    "    for model in models:\n",
    "        preds.append(model.predict(X_test))\n",
    "    preds = np.mean(preds, axis=0) if CFG.mean else np.median(preds, axis=0)\n",
    "\n",
    "    sample_prediction[\"Prediction\"] = preds\n",
    "    sample_prediction = sample_prediction.sort_values(by = \"Prediction\", ascending=False)\n",
    "    sample_prediction.Rank = np.arange(0,2000)\n",
    "    sample_prediction = sample_prediction.sort_values(by = \"SecuritiesCode\", ascending=True)\n",
    "    sample_prediction.drop([\"Prediction\"],axis=1)\n",
    "    submission = sample_prediction[[\"Date\",\"SecuritiesCode\",\"Rank\"]]\n",
    "    env.predict(submission)"
   ]
  }
 ],
 "metadata": {
  "kernelspec": {
   "display_name": "Python 3",
   "language": "python",
   "name": "python3"
  },
  "language_info": {
   "codemirror_mode": {
    "name": "ipython",
    "version": 3
   },
   "file_extension": ".py",
   "mimetype": "text/x-python",
   "name": "python",
   "nbconvert_exporter": "python",
   "pygments_lexer": "ipython3",
   "version": "3.7.12"
  },
  "papermill": {
   "default_parameters": {},
   "duration": 627.062833,
   "end_time": "2022-06-25T04:32:37.922037",
   "environment_variables": {},
   "exception": null,
   "input_path": "__notebook__.ipynb",
   "output_path": "__notebook__.ipynb",
   "parameters": {},
   "start_time": "2022-06-25T04:22:10.859204",
   "version": "2.3.4"
  }
 },
 "nbformat": 4,
 "nbformat_minor": 5
}
