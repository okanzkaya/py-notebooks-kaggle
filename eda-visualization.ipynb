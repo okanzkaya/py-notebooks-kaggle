{
 "cells": [
  {
   "cell_type": "markdown",
   "id": "bdb0c080",
   "metadata": {
    "papermill": {
     "duration": 0.007669,
     "end_time": "2022-08-21T14:13:34.721885",
     "exception": false,
     "start_time": "2022-08-21T14:13:34.714216",
     "status": "completed"
    },
    "tags": []
   },
   "source": [
    "<div style=\"color:white;\n",
    "            text-align:center;\n",
    "           border-radius:10px;\n",
    "           background-color:#5642C5;\n",
    "           font-size:50px;\n",
    "            margin-bottom:30px;\"> Preface\n",
    "</div>\n",
    "\n",
    "<img style=\"margin: auto;\" src=\"https://upload.wikimedia.org/wikipedia/commons/thumb/9/93/1C_Company_logo.svg/220px-1C_Company_logo.svg.png\"/>\n",
    "\n",
    "<p style=\"text-align:center;\n",
    "          padding-top: 1em;\n",
    "          font-size:20px;\">Welcome to my notebook, in this notebook we will examine the current data from 1C Company. I am so happy to seeing you there. <br/> Our Objectives Are: w.r.t.</p>\n",
    "          <ul style=\"font-size:20px;\">\n",
    "<li>Understanding the data</li>\n",
    "<li>Cleaning the data</li>\n",
    "<li>Analyzing the data</li>\n",
    "<li>Visualizing the data</li>\n",
    "<li>Making the final assessment</li>\n",
    "\n"
   ]
  },
  {
   "cell_type": "markdown",
   "id": "5ccbe24c",
   "metadata": {
    "papermill": {
     "duration": 0.006114,
     "end_time": "2022-08-21T14:13:34.734613",
     "exception": false,
     "start_time": "2022-08-21T14:13:34.728499",
     "status": "completed"
    },
    "tags": []
   },
   "source": [
    "<h1 style=\"color:red;\n",
    "           margin:0;\n",
    "           padding:0;\">Import Relevant Libraries</h1>\n",
    "  \n",
    "<p style=\"font-size:20px\">We will start with importing our libraries as we always do.</p>\n",
    "    \n",
    "<p style=\"font-size:20px\">Then we will import our competition data.</p>"
   ]
  },
  {
   "cell_type": "code",
   "execution_count": 1,
   "id": "d5b31735",
   "metadata": {
    "execution": {
     "iopub.execute_input": "2022-08-21T14:13:34.749939Z",
     "iopub.status.busy": "2022-08-21T14:13:34.749402Z",
     "iopub.status.idle": "2022-08-21T14:13:37.250549Z",
     "shell.execute_reply": "2022-08-21T14:13:37.249290Z"
    },
    "papermill": {
     "duration": 2.513163,
     "end_time": "2022-08-21T14:13:37.254120",
     "exception": false,
     "start_time": "2022-08-21T14:13:34.740957",
     "status": "completed"
    },
    "tags": []
   },
   "outputs": [],
   "source": [
    "import pandas as pd\n",
    "import numpy as np\n",
    "import plotly.express as px\n",
    "import seaborn as sns\n",
    "import matplotlib.pyplot as plt"
   ]
  },
  {
   "cell_type": "code",
   "execution_count": 2,
   "id": "acde3d9a",
   "metadata": {
    "execution": {
     "iopub.execute_input": "2022-08-21T14:13:37.269589Z",
     "iopub.status.busy": "2022-08-21T14:13:37.269106Z",
     "iopub.status.idle": "2022-08-21T14:13:39.816893Z",
     "shell.execute_reply": "2022-08-21T14:13:39.815463Z"
    },
    "papermill": {
     "duration": 2.558979,
     "end_time": "2022-08-21T14:13:39.819958",
     "exception": false,
     "start_time": "2022-08-21T14:13:37.260979",
     "status": "completed"
    },
    "tags": []
   },
   "outputs": [],
   "source": [
    "categories_df = pd.read_csv('../input/competitive-data-science-predict-future-sales/item_categories.csv')\n",
    "items_df = pd.read_csv('../input/competitive-data-science-predict-future-sales/items.csv')\n",
    "sales_train_df = pd.read_csv('../input/competitive-data-science-predict-future-sales/sales_train.csv')\n",
    "shops_df = pd.read_csv('../input/competitive-data-science-predict-future-sales/shops.csv')"
   ]
  },
  {
   "cell_type": "markdown",
   "id": "db2158cd",
   "metadata": {
    "papermill": {
     "duration": 0.006722,
     "end_time": "2022-08-21T14:13:39.834251",
     "exception": false,
     "start_time": "2022-08-21T14:13:39.827529",
     "status": "completed"
    },
    "tags": []
   },
   "source": [
    "<h1>Importings are done, let's understand our labeling before move on:</h1>\n",
    "\n",
    "<h1>Data fields</h1>\n",
    "\n",
    "**ID** - an Id that represents a (Shop, Item) tuple within the test set\n",
    "\n",
    "**shop_id** - unique identifier of a shop\n",
    "\n",
    "**item_id** - unique identifier of a product\n",
    "\n",
    "**item_category_id** - unique identifier of item category\n",
    "\n",
    "**item_cnt_day** - number of products sold. You are predicting a monthly amount of this measure\n",
    "\n",
    "**item_price** - current price of an item\n",
    "\n",
    "**date** - date in format dd/mm/yyyy\n",
    "\n",
    "**date_block_num** - a consecutive month number, used for convenience. January 2013 is 0, February 2013 is 1,..., October 2015 is 33\n",
    "\n",
    "**item_name** - name of item\n",
    "\n",
    "**shop_name** - name of shop\n",
    "\n",
    "**item_category_name** - name of item category\n",
    "\n",
    "*This dataset is permitted to be used for any purpose, including commercial use.*\n",
    "\n",
    "> Let's start with sales_train.csv"
   ]
  },
  {
   "cell_type": "code",
   "execution_count": 3,
   "id": "536fa62f",
   "metadata": {
    "_kg_hide-input": true,
    "execution": {
     "iopub.execute_input": "2022-08-21T14:13:39.850050Z",
     "iopub.status.busy": "2022-08-21T14:13:39.849535Z",
     "iopub.status.idle": "2022-08-21T14:13:39.880953Z",
     "shell.execute_reply": "2022-08-21T14:13:39.879692Z"
    },
    "papermill": {
     "duration": 0.044225,
     "end_time": "2022-08-21T14:13:39.885392",
     "exception": false,
     "start_time": "2022-08-21T14:13:39.841167",
     "status": "completed"
    },
    "tags": []
   },
   "outputs": [
    {
     "data": {
      "text/html": [
       "<div>\n",
       "<style scoped>\n",
       "    .dataframe tbody tr th:only-of-type {\n",
       "        vertical-align: middle;\n",
       "    }\n",
       "\n",
       "    .dataframe tbody tr th {\n",
       "        vertical-align: top;\n",
       "    }\n",
       "\n",
       "    .dataframe thead th {\n",
       "        text-align: right;\n",
       "    }\n",
       "</style>\n",
       "<table border=\"1\" class=\"dataframe\">\n",
       "  <thead>\n",
       "    <tr style=\"text-align: right;\">\n",
       "      <th></th>\n",
       "      <th>date</th>\n",
       "      <th>date_block_num</th>\n",
       "      <th>shop_id</th>\n",
       "      <th>item_id</th>\n",
       "      <th>item_price</th>\n",
       "      <th>item_cnt_day</th>\n",
       "    </tr>\n",
       "  </thead>\n",
       "  <tbody>\n",
       "    <tr>\n",
       "      <th>0</th>\n",
       "      <td>02.01.2013</td>\n",
       "      <td>0</td>\n",
       "      <td>59</td>\n",
       "      <td>22154</td>\n",
       "      <td>999.00</td>\n",
       "      <td>1.0</td>\n",
       "    </tr>\n",
       "    <tr>\n",
       "      <th>1</th>\n",
       "      <td>03.01.2013</td>\n",
       "      <td>0</td>\n",
       "      <td>25</td>\n",
       "      <td>2552</td>\n",
       "      <td>899.00</td>\n",
       "      <td>1.0</td>\n",
       "    </tr>\n",
       "    <tr>\n",
       "      <th>2</th>\n",
       "      <td>05.01.2013</td>\n",
       "      <td>0</td>\n",
       "      <td>25</td>\n",
       "      <td>2552</td>\n",
       "      <td>899.00</td>\n",
       "      <td>-1.0</td>\n",
       "    </tr>\n",
       "    <tr>\n",
       "      <th>3</th>\n",
       "      <td>06.01.2013</td>\n",
       "      <td>0</td>\n",
       "      <td>25</td>\n",
       "      <td>2554</td>\n",
       "      <td>1709.05</td>\n",
       "      <td>1.0</td>\n",
       "    </tr>\n",
       "    <tr>\n",
       "      <th>4</th>\n",
       "      <td>15.01.2013</td>\n",
       "      <td>0</td>\n",
       "      <td>25</td>\n",
       "      <td>2555</td>\n",
       "      <td>1099.00</td>\n",
       "      <td>1.0</td>\n",
       "    </tr>\n",
       "    <tr>\n",
       "      <th>...</th>\n",
       "      <td>...</td>\n",
       "      <td>...</td>\n",
       "      <td>...</td>\n",
       "      <td>...</td>\n",
       "      <td>...</td>\n",
       "      <td>...</td>\n",
       "    </tr>\n",
       "    <tr>\n",
       "      <th>2935844</th>\n",
       "      <td>10.10.2015</td>\n",
       "      <td>33</td>\n",
       "      <td>25</td>\n",
       "      <td>7409</td>\n",
       "      <td>299.00</td>\n",
       "      <td>1.0</td>\n",
       "    </tr>\n",
       "    <tr>\n",
       "      <th>2935845</th>\n",
       "      <td>09.10.2015</td>\n",
       "      <td>33</td>\n",
       "      <td>25</td>\n",
       "      <td>7460</td>\n",
       "      <td>299.00</td>\n",
       "      <td>1.0</td>\n",
       "    </tr>\n",
       "    <tr>\n",
       "      <th>2935846</th>\n",
       "      <td>14.10.2015</td>\n",
       "      <td>33</td>\n",
       "      <td>25</td>\n",
       "      <td>7459</td>\n",
       "      <td>349.00</td>\n",
       "      <td>1.0</td>\n",
       "    </tr>\n",
       "    <tr>\n",
       "      <th>2935847</th>\n",
       "      <td>22.10.2015</td>\n",
       "      <td>33</td>\n",
       "      <td>25</td>\n",
       "      <td>7440</td>\n",
       "      <td>299.00</td>\n",
       "      <td>1.0</td>\n",
       "    </tr>\n",
       "    <tr>\n",
       "      <th>2935848</th>\n",
       "      <td>03.10.2015</td>\n",
       "      <td>33</td>\n",
       "      <td>25</td>\n",
       "      <td>7460</td>\n",
       "      <td>299.00</td>\n",
       "      <td>1.0</td>\n",
       "    </tr>\n",
       "  </tbody>\n",
       "</table>\n",
       "<p>2935849 rows × 6 columns</p>\n",
       "</div>"
      ],
      "text/plain": [
       "               date  date_block_num  shop_id  item_id  item_price  \\\n",
       "0        02.01.2013               0       59    22154      999.00   \n",
       "1        03.01.2013               0       25     2552      899.00   \n",
       "2        05.01.2013               0       25     2552      899.00   \n",
       "3        06.01.2013               0       25     2554     1709.05   \n",
       "4        15.01.2013               0       25     2555     1099.00   \n",
       "...             ...             ...      ...      ...         ...   \n",
       "2935844  10.10.2015              33       25     7409      299.00   \n",
       "2935845  09.10.2015              33       25     7460      299.00   \n",
       "2935846  14.10.2015              33       25     7459      349.00   \n",
       "2935847  22.10.2015              33       25     7440      299.00   \n",
       "2935848  03.10.2015              33       25     7460      299.00   \n",
       "\n",
       "         item_cnt_day  \n",
       "0                 1.0  \n",
       "1                 1.0  \n",
       "2                -1.0  \n",
       "3                 1.0  \n",
       "4                 1.0  \n",
       "...               ...  \n",
       "2935844           1.0  \n",
       "2935845           1.0  \n",
       "2935846           1.0  \n",
       "2935847           1.0  \n",
       "2935848           1.0  \n",
       "\n",
       "[2935849 rows x 6 columns]"
      ]
     },
     "execution_count": 3,
     "metadata": {},
     "output_type": "execute_result"
    }
   ],
   "source": [
    "sales_train_df"
   ]
  },
  {
   "cell_type": "markdown",
   "id": "468f1273",
   "metadata": {
    "papermill": {
     "duration": 0.006823,
     "end_time": "2022-08-21T14:13:39.899544",
     "exception": false,
     "start_time": "2022-08-21T14:13:39.892721",
     "status": "completed"
    },
    "tags": []
   },
   "source": [
    "<h1>Data Cleaning</h1>\n",
    "<p style=\"font-size:20px\">Let's check if there are missing values </p>"
   ]
  },
  {
   "cell_type": "code",
   "execution_count": 4,
   "id": "8f298c81",
   "metadata": {
    "_kg_hide-input": true,
    "execution": {
     "iopub.execute_input": "2022-08-21T14:13:39.916601Z",
     "iopub.status.busy": "2022-08-21T14:13:39.916201Z",
     "iopub.status.idle": "2022-08-21T14:13:40.078919Z",
     "shell.execute_reply": "2022-08-21T14:13:40.077579Z"
    },
    "papermill": {
     "duration": 0.175674,
     "end_time": "2022-08-21T14:13:40.082399",
     "exception": false,
     "start_time": "2022-08-21T14:13:39.906725",
     "status": "completed"
    },
    "tags": []
   },
   "outputs": [
    {
     "name": "stdout",
     "output_type": "stream",
     "text": [
      "sales_train_df doesn't contain any of NaN values.\n",
      "shops_df doesn't contain any of NaN values.\n",
      "items_df doesn't contain any of NaN values.\n",
      "categories_df doesn't contain any of NaN values.\n"
     ]
    }
   ],
   "source": [
    "if sales_train_df.isnull().values.any():\n",
    "    print(\"sales_train_df contains NaN values.\")\n",
    "else:\n",
    "    print(\"sales_train_df doesn't contain any of NaN values.\")\n",
    "if shops_df.isnull().values.any():\n",
    "    print(\"shops_df contains NaN values.\")\n",
    "else:\n",
    "    print(\"shops_df doesn't contain any of NaN values.\")\n",
    "if items_df.isnull().values.any():\n",
    "    print(\"items_df contains NaN values.\")\n",
    "else:\n",
    "    print(\"items_df doesn't contain any of NaN values.\")\n",
    "if categories_df.isnull().values.any():\n",
    "    print(\"categories_df contains NaN values.\")\n",
    "else:\n",
    "    print(\"categories_df doesn't contain any of NaN values.\")"
   ]
  },
  {
   "cell_type": "markdown",
   "id": "2241648a",
   "metadata": {
    "papermill": {
     "duration": 0.006854,
     "end_time": "2022-08-21T14:13:40.096418",
     "exception": false,
     "start_time": "2022-08-21T14:13:40.089564",
     "status": "completed"
    },
    "tags": []
   },
   "source": [
    "* Nice, we don't have any missing values.\n",
    "<p style=\"font-size:20px;\">Alright, probably our most important file is the sales_train.csv, I will check the correlation between months and sales. Maybe we can come up with new inferences.</p>"
   ]
  },
  {
   "cell_type": "code",
   "execution_count": 5,
   "id": "ec7b53ff",
   "metadata": {
    "execution": {
     "iopub.execute_input": "2022-08-21T14:13:40.112678Z",
     "iopub.status.busy": "2022-08-21T14:13:40.112276Z",
     "iopub.status.idle": "2022-08-21T14:13:56.222096Z",
     "shell.execute_reply": "2022-08-21T14:13:56.220461Z"
    },
    "papermill": {
     "duration": 16.12237,
     "end_time": "2022-08-21T14:13:56.226048",
     "exception": false,
     "start_time": "2022-08-21T14:13:40.103678",
     "status": "completed"
    },
    "tags": []
   },
   "outputs": [
    {
     "data": {
      "text/plain": [
       "<AxesSubplot:xlabel='date'>"
      ]
     },
     "execution_count": 5,
     "metadata": {},
     "output_type": "execute_result"
    },
    {
     "data": {
      "image/png": "[encoded data removed]",
      "text/plain": [
       "<Figure size 864x216 with 1 Axes>"
      ]
     },
     "metadata": {
      "needs_background": "light"
     },
     "output_type": "display_data"
    }
   ],
   "source": [
    "sales_train_df['date'] = pd.to_datetime(sales_train_df['date']) # formatting\n",
    "months_order = ['January', 'February', 'March', 'April', 'May', 'June', 'July', 'August', 'September', 'October', 'November', 'December']\n",
    "sales_per_month = sales_train_df.groupby(sales_train_df['date'].dt.strftime('%B'))['item_cnt_day'].sum() # group sold item count with months\n",
    "sales_per_month = sales_per_month.reindex(months_order, axis=0)\n",
    "sales_per_month.plot(kind=\"bar\", figsize=(12,3)) # plot it"
   ]
  },
  {
   "cell_type": "markdown",
   "id": "02f046fa",
   "metadata": {
    "papermill": {
     "duration": 0.008126,
     "end_time": "2022-08-21T14:13:56.242654",
     "exception": false,
     "start_time": "2022-08-21T14:13:56.234528",
     "status": "completed"
    },
    "tags": []
   },
   "source": [
    "<p style=\"font-size:20px;\">It seems like <b>November</b> is the worst for sales so far, and <b>December</b> is the best for the sales, now let's dive deeper and inspect it by days</p>"
   ]
  },
  {
   "cell_type": "code",
   "execution_count": 6,
   "id": "338ce878",
   "metadata": {
    "execution": {
     "iopub.execute_input": "2022-08-21T14:13:56.261844Z",
     "iopub.status.busy": "2022-08-21T14:13:56.260893Z",
     "iopub.status.idle": "2022-08-21T14:13:57.895157Z",
     "shell.execute_reply": "2022-08-21T14:13:57.894067Z"
    },
    "papermill": {
     "duration": 1.646208,
     "end_time": "2022-08-21T14:13:57.897467",
     "exception": false,
     "start_time": "2022-08-21T14:13:56.251259",
     "status": "completed"
    },
    "tags": []
   },
   "outputs": [
    {
     "data": {
      "text/plain": [
       "<AxesSubplot:xlabel='day_of_week'>"
      ]
     },
     "execution_count": 6,
     "metadata": {},
     "output_type": "execute_result"
    },
    {
     "data": {
      "image/png": "[encoded data removed]",
      "text/plain": [
       "<Figure size 864x216 with 1 Axes>"
      ]
     },
     "metadata": {
      "needs_background": "light"
     },
     "output_type": "display_data"
    }
   ],
   "source": [
    "sales_train_df['day_of_week'] = sales_train_df['date'].dt.day_name() # add a new label that specifies a day in the week.\n",
    "days_order = ['Monday', 'Tuesday', 'Wednesday', 'Thursday', 'Friday', 'Saturday', 'Sunday']\n",
    "sales_per_day = sales_train_df.groupby(sales_train_df['day_of_week'])['item_cnt_day'].sum()\n",
    "sales_per_day = sales_per_day.reindex(days_order, axis=0 )\n",
    "sales_per_day.plot(kind='bar', figsize=(12,3))"
   ]
  },
  {
   "cell_type": "markdown",
   "id": "826a6996",
   "metadata": {
    "papermill": {
     "duration": 0.008389,
     "end_time": "2022-08-21T14:13:57.914215",
     "exception": false,
     "start_time": "2022-08-21T14:13:57.905826",
     "status": "completed"
    },
    "tags": []
   },
   "source": [
    "<p style=\"font-size:20px;\"><b>Saturday</b> is a great day for sales, but not <b>Thursday</b> neither <b>Monday</b>.</p>\n",
    "\n",
    "**Now we can analyze it by months, host provided date block numbers, I appreciate it.**"
   ]
  },
  {
   "cell_type": "code",
   "execution_count": 7,
   "id": "8a37e963",
   "metadata": {
    "execution": {
     "iopub.execute_input": "2022-08-21T14:13:57.932477Z",
     "iopub.status.busy": "2022-08-21T14:13:57.931721Z",
     "iopub.status.idle": "2022-08-21T14:13:58.228335Z",
     "shell.execute_reply": "2022-08-21T14:13:58.226722Z"
    },
    "papermill": {
     "duration": 0.30951,
     "end_time": "2022-08-21T14:13:58.231317",
     "exception": false,
     "start_time": "2022-08-21T14:13:57.921807",
     "status": "completed"
    },
    "tags": []
   },
   "outputs": [
    {
     "data": {
      "text/plain": [
       "Text(0, 0.5, 'Sales')"
      ]
     },
     "execution_count": 7,
     "metadata": {},
     "output_type": "execute_result"
    },
    {
     "data": {
      "image/png": "[encoded data removed]",
      "text/plain": [
       "<Figure size 864x216 with 1 Axes>"
      ]
     },
     "metadata": {
      "needs_background": "light"
     },
     "output_type": "display_data"
    }
   ],
   "source": [
    "sales_per_month = sales_train_df.groupby([\"date_block_num\"])[\"item_cnt_day\"].sum()\n",
    "ax = sales_per_month.plot(kind='line', figsize=(12,3))\n",
    "ax.set_xlabel(\"Months\")\n",
    "ax.set_ylabel(\"Sales\")"
   ]
  },
  {
   "cell_type": "markdown",
   "id": "48a4e8c7",
   "metadata": {
    "papermill": {
     "duration": 0.008865,
     "end_time": "2022-08-21T14:13:58.249681",
     "exception": false,
     "start_time": "2022-08-21T14:13:58.240816",
     "status": "completed"
    },
    "tags": []
   },
   "source": [
    "<p style=\"font-size:20px;\">Sales per months data seems <b>volatile</b>, a lot of factors can has an effect on it. <br>Examples: business policies, decisions,macroeconomics, seasonal sales, shortages etc.</p>"
   ]
  },
  {
   "cell_type": "markdown",
   "id": "09f47478",
   "metadata": {
    "papermill": {
     "duration": 0.009099,
     "end_time": "2022-08-21T14:13:58.267768",
     "exception": false,
     "start_time": "2022-08-21T14:13:58.258669",
     "status": "completed"
    },
    "tags": []
   },
   "source": [
    "<p style=\"font-size:20px;\">We will check other important factor, <b>Shops</b></p>\n",
    "\n",
    "<p style=\"font-size:15px;\">It looks like the company has so many shops around, some of them may be more strategic and performant while others are not so fruitful. </p>"
   ]
  },
  {
   "cell_type": "code",
   "execution_count": 8,
   "id": "2c7ba209",
   "metadata": {
    "execution": {
     "iopub.execute_input": "2022-08-21T14:13:58.288935Z",
     "iopub.status.busy": "2022-08-21T14:13:58.288227Z",
     "iopub.status.idle": "2022-08-21T14:13:58.588026Z",
     "shell.execute_reply": "2022-08-21T14:13:58.586562Z"
    },
    "papermill": {
     "duration": 0.313589,
     "end_time": "2022-08-21T14:13:58.591069",
     "exception": false,
     "start_time": "2022-08-21T14:13:58.277480",
     "status": "completed"
    },
    "tags": []
   },
   "outputs": [
    {
     "data": {
      "text/plain": [
       "Text(0, 0.5, 'Sales')"
      ]
     },
     "execution_count": 8,
     "metadata": {},
     "output_type": "execute_result"
    },
    {
     "data": {
      "image/png": "[encoded data removed]",
      "text/plain": [
       "<Figure size 864x216 with 1 Axes>"
      ]
     },
     "metadata": {
      "needs_background": "light"
     },
     "output_type": "display_data"
    }
   ],
   "source": [
    "sales_per_shop = sales_train_df.groupby([\"shop_id\"])[\"item_cnt_day\"].sum()\n",
    "ax = sales_per_shop.plot(kind='line', figsize=(12,3))\n",
    "ax.set_xlabel(\"Shop ID\")\n",
    "ax.set_ylabel(\"Sales\")"
   ]
  },
  {
   "cell_type": "markdown",
   "id": "a72437c8",
   "metadata": {
    "papermill": {
     "duration": 0.009014,
     "end_time": "2022-08-21T14:13:58.609664",
     "exception": false,
     "start_time": "2022-08-21T14:13:58.600650",
     "status": "completed"
    },
    "tags": []
   },
   "source": [
    "<p style=\"font-size:20px;\">Performance between shops differ a lot.</p>\n",
    "<p style=\"font-size:15px;\">Let's find best 3 shops and worst 3 of them, which will be more strategic. But there may be differen factors for <b>The Cost of a shop</b>: location, staff quantity, monthly costs per shops etc. </p>\n",
    "<p style=\"font-size:15px;\">Business eventually expects better performance for highly invested shops, unfortunately we don't have enough data to assess it, so we will stay as superficial.</p>"
   ]
  },
  {
   "cell_type": "code",
   "execution_count": 9,
   "id": "b49cdc6f",
   "metadata": {
    "_kg_hide-input": true,
    "execution": {
     "iopub.execute_input": "2022-08-21T14:13:58.630870Z",
     "iopub.status.busy": "2022-08-21T14:13:58.630413Z",
     "iopub.status.idle": "2022-08-21T14:13:58.643495Z",
     "shell.execute_reply": "2022-08-21T14:13:58.641765Z"
    },
    "papermill": {
     "duration": 0.026965,
     "end_time": "2022-08-21T14:13:58.646020",
     "exception": false,
     "start_time": "2022-08-21T14:13:58.619055",
     "status": "completed"
    },
    "tags": []
   },
   "outputs": [
    {
     "name": "stdout",
     "output_type": "stream",
     "text": [
      "Shop ID 36 has a low performance with 330.0 products sold.\n",
      "Shop ID 11 has a low performance with 572.0 products sold.\n",
      "Shop ID 8 has a low performance with 3595.0 products sold.\n",
      "--------------------------------\n",
      "Shop ID 31 has a high performance with 310777.0 products sold.\n",
      "Shop ID 25 has a high performance with 241920.0 products sold.\n",
      "Shop ID 54 has a high performance with 185790.0 products sold.\n"
     ]
    }
   ],
   "source": [
    "for i in sales_per_shop.nsmallest(3):\n",
    "    print(f\"Shop ID {sales_per_shop[sales_per_shop == i].index[0]} has a low performance with {i} products sold.\")\n",
    "print(\"-\"*32)\n",
    "for i in sales_per_shop.nlargest(3):\n",
    "    print(f\"Shop ID {sales_per_shop[sales_per_shop == i].index[0]} has a high performance with {i} products sold.\")"
   ]
  },
  {
   "cell_type": "markdown",
   "id": "9b492de5",
   "metadata": {
    "papermill": {
     "duration": 0.008973,
     "end_time": "2022-08-21T14:13:58.664444",
     "exception": false,
     "start_time": "2022-08-21T14:13:58.655471",
     "status": "completed"
    },
    "tags": []
   },
   "source": [
    "<p style=\"font-size:20px;\">Shop id 36, 11, 8 have the lowest sales while Shop id 31, 25, 54 have the highest.</p> <p style=\"font-size:15px;\"> But we can't directly come up with a solution, because there are so many factors involve in.</p>"
   ]
  },
  {
   "cell_type": "markdown",
   "id": "9474aea2",
   "metadata": {
    "papermill": {
     "duration": 0.00891,
     "end_time": "2022-08-21T14:13:58.682674",
     "exception": false,
     "start_time": "2022-08-21T14:13:58.673764",
     "status": "completed"
    },
    "tags": []
   },
   "source": [
    "<p style=\"font-size:20px;\">We analyzed sales_train.csv and made some inferences, now we will target items.</p>"
   ]
  },
  {
   "cell_type": "code",
   "execution_count": 10,
   "id": "178251a6",
   "metadata": {
    "execution": {
     "iopub.execute_input": "2022-08-21T14:13:58.704021Z",
     "iopub.status.busy": "2022-08-21T14:13:58.702625Z",
     "iopub.status.idle": "2022-08-21T14:13:58.723098Z",
     "shell.execute_reply": "2022-08-21T14:13:58.721969Z"
    },
    "papermill": {
     "duration": 0.03404,
     "end_time": "2022-08-21T14:13:58.725975",
     "exception": false,
     "start_time": "2022-08-21T14:13:58.691935",
     "status": "completed"
    },
    "tags": []
   },
   "outputs": [
    {
     "data": {
      "text/html": [
       "<div>\n",
       "<style scoped>\n",
       "    .dataframe tbody tr th:only-of-type {\n",
       "        vertical-align: middle;\n",
       "    }\n",
       "\n",
       "    .dataframe tbody tr th {\n",
       "        vertical-align: top;\n",
       "    }\n",
       "\n",
       "    .dataframe thead th {\n",
       "        text-align: right;\n",
       "    }\n",
       "</style>\n",
       "<table border=\"1\" class=\"dataframe\">\n",
       "  <thead>\n",
       "    <tr style=\"text-align: right;\">\n",
       "      <th></th>\n",
       "      <th>item_category_name</th>\n",
       "      <th>item_category_id</th>\n",
       "    </tr>\n",
       "  </thead>\n",
       "  <tbody>\n",
       "    <tr>\n",
       "      <th>0</th>\n",
       "      <td>PC - Гарнитуры/Наушники</td>\n",
       "      <td>0</td>\n",
       "    </tr>\n",
       "    <tr>\n",
       "      <th>1</th>\n",
       "      <td>Аксессуары - PS2</td>\n",
       "      <td>1</td>\n",
       "    </tr>\n",
       "    <tr>\n",
       "      <th>2</th>\n",
       "      <td>Аксессуары - PS3</td>\n",
       "      <td>2</td>\n",
       "    </tr>\n",
       "    <tr>\n",
       "      <th>3</th>\n",
       "      <td>Аксессуары - PS4</td>\n",
       "      <td>3</td>\n",
       "    </tr>\n",
       "    <tr>\n",
       "      <th>4</th>\n",
       "      <td>Аксессуары - PSP</td>\n",
       "      <td>4</td>\n",
       "    </tr>\n",
       "    <tr>\n",
       "      <th>...</th>\n",
       "      <td>...</td>\n",
       "      <td>...</td>\n",
       "    </tr>\n",
       "    <tr>\n",
       "      <th>79</th>\n",
       "      <td>Служебные</td>\n",
       "      <td>79</td>\n",
       "    </tr>\n",
       "    <tr>\n",
       "      <th>80</th>\n",
       "      <td>Служебные - Билеты</td>\n",
       "      <td>80</td>\n",
       "    </tr>\n",
       "    <tr>\n",
       "      <th>81</th>\n",
       "      <td>Чистые носители (шпиль)</td>\n",
       "      <td>81</td>\n",
       "    </tr>\n",
       "    <tr>\n",
       "      <th>82</th>\n",
       "      <td>Чистые носители (штучные)</td>\n",
       "      <td>82</td>\n",
       "    </tr>\n",
       "    <tr>\n",
       "      <th>83</th>\n",
       "      <td>Элементы питания</td>\n",
       "      <td>83</td>\n",
       "    </tr>\n",
       "  </tbody>\n",
       "</table>\n",
       "<p>84 rows × 2 columns</p>\n",
       "</div>"
      ],
      "text/plain": [
       "           item_category_name  item_category_id\n",
       "0     PC - Гарнитуры/Наушники                 0\n",
       "1            Аксессуары - PS2                 1\n",
       "2            Аксессуары - PS3                 2\n",
       "3            Аксессуары - PS4                 3\n",
       "4            Аксессуары - PSP                 4\n",
       "..                        ...               ...\n",
       "79                  Служебные                79\n",
       "80         Служебные - Билеты                80\n",
       "81    Чистые носители (шпиль)                81\n",
       "82  Чистые носители (штучные)                82\n",
       "83           Элементы питания                83\n",
       "\n",
       "[84 rows x 2 columns]"
      ]
     },
     "metadata": {},
     "output_type": "display_data"
    },
    {
     "data": {
      "text/html": [
       "<div>\n",
       "<style scoped>\n",
       "    .dataframe tbody tr th:only-of-type {\n",
       "        vertical-align: middle;\n",
       "    }\n",
       "\n",
       "    .dataframe tbody tr th {\n",
       "        vertical-align: top;\n",
       "    }\n",
       "\n",
       "    .dataframe thead th {\n",
       "        text-align: right;\n",
       "    }\n",
       "</style>\n",
       "<table border=\"1\" class=\"dataframe\">\n",
       "  <thead>\n",
       "    <tr style=\"text-align: right;\">\n",
       "      <th></th>\n",
       "      <th>item_name</th>\n",
       "      <th>item_id</th>\n",
       "      <th>item_category_id</th>\n",
       "    </tr>\n",
       "  </thead>\n",
       "  <tbody>\n",
       "    <tr>\n",
       "      <th>0</th>\n",
       "      <td>! ВО ВЛАСТИ НАВАЖДЕНИЯ (ПЛАСТ.)         D</td>\n",
       "      <td>0</td>\n",
       "      <td>40</td>\n",
       "    </tr>\n",
       "    <tr>\n",
       "      <th>1</th>\n",
       "      <td>!ABBYY FineReader 12 Professional Edition Full...</td>\n",
       "      <td>1</td>\n",
       "      <td>76</td>\n",
       "    </tr>\n",
       "    <tr>\n",
       "      <th>2</th>\n",
       "      <td>***В ЛУЧАХ СЛАВЫ   (UNV)                    D</td>\n",
       "      <td>2</td>\n",
       "      <td>40</td>\n",
       "    </tr>\n",
       "    <tr>\n",
       "      <th>3</th>\n",
       "      <td>***ГОЛУБАЯ ВОЛНА  (Univ)                      D</td>\n",
       "      <td>3</td>\n",
       "      <td>40</td>\n",
       "    </tr>\n",
       "    <tr>\n",
       "      <th>4</th>\n",
       "      <td>***КОРОБКА (СТЕКЛО)                       D</td>\n",
       "      <td>4</td>\n",
       "      <td>40</td>\n",
       "    </tr>\n",
       "    <tr>\n",
       "      <th>...</th>\n",
       "      <td>...</td>\n",
       "      <td>...</td>\n",
       "      <td>...</td>\n",
       "    </tr>\n",
       "    <tr>\n",
       "      <th>22165</th>\n",
       "      <td>Ядерный титбит 2 [PC, Цифровая версия]</td>\n",
       "      <td>22165</td>\n",
       "      <td>31</td>\n",
       "    </tr>\n",
       "    <tr>\n",
       "      <th>22166</th>\n",
       "      <td>Язык запросов 1С:Предприятия  [Цифровая версия]</td>\n",
       "      <td>22166</td>\n",
       "      <td>54</td>\n",
       "    </tr>\n",
       "    <tr>\n",
       "      <th>22167</th>\n",
       "      <td>Язык запросов 1С:Предприятия 8 (+CD). Хрустале...</td>\n",
       "      <td>22167</td>\n",
       "      <td>49</td>\n",
       "    </tr>\n",
       "    <tr>\n",
       "      <th>22168</th>\n",
       "      <td>Яйцо для Little Inu</td>\n",
       "      <td>22168</td>\n",
       "      <td>62</td>\n",
       "    </tr>\n",
       "    <tr>\n",
       "      <th>22169</th>\n",
       "      <td>Яйцо дракона (Игра престолов)</td>\n",
       "      <td>22169</td>\n",
       "      <td>69</td>\n",
       "    </tr>\n",
       "  </tbody>\n",
       "</table>\n",
       "<p>22170 rows × 3 columns</p>\n",
       "</div>"
      ],
      "text/plain": [
       "                                               item_name  item_id  \\\n",
       "0              ! ВО ВЛАСТИ НАВАЖДЕНИЯ (ПЛАСТ.)         D        0   \n",
       "1      !ABBYY FineReader 12 Professional Edition Full...        1   \n",
       "2          ***В ЛУЧАХ СЛАВЫ   (UNV)                    D        2   \n",
       "3        ***ГОЛУБАЯ ВОЛНА  (Univ)                      D        3   \n",
       "4            ***КОРОБКА (СТЕКЛО)                       D        4   \n",
       "...                                                  ...      ...   \n",
       "22165             Ядерный титбит 2 [PC, Цифровая версия]    22165   \n",
       "22166    Язык запросов 1С:Предприятия  [Цифровая версия]    22166   \n",
       "22167  Язык запросов 1С:Предприятия 8 (+CD). Хрустале...    22167   \n",
       "22168                                Яйцо для Little Inu    22168   \n",
       "22169                      Яйцо дракона (Игра престолов)    22169   \n",
       "\n",
       "       item_category_id  \n",
       "0                    40  \n",
       "1                    76  \n",
       "2                    40  \n",
       "3                    40  \n",
       "4                    40  \n",
       "...                 ...  \n",
       "22165                31  \n",
       "22166                54  \n",
       "22167                49  \n",
       "22168                62  \n",
       "22169                69  \n",
       "\n",
       "[22170 rows x 3 columns]"
      ]
     },
     "execution_count": 10,
     "metadata": {},
     "output_type": "execute_result"
    }
   ],
   "source": [
    "display(categories_df)\n",
    "items_df"
   ]
  },
  {
   "cell_type": "markdown",
   "id": "27463a0d",
   "metadata": {
    "papermill": {
     "duration": 0.009427,
     "end_time": "2022-08-21T14:13:58.745302",
     "exception": false,
     "start_time": "2022-08-21T14:13:58.735875",
     "status": "completed"
    },
    "tags": []
   },
   "source": [
    "<p style=\"font-size:25px;\">There are two files of items, we will merge them in order the ease our analysis.</p>"
   ]
  },
  {
   "cell_type": "code",
   "execution_count": 11,
   "id": "c7dc4b25",
   "metadata": {
    "execution": {
     "iopub.execute_input": "2022-08-21T14:13:58.766272Z",
     "iopub.status.busy": "2022-08-21T14:13:58.765832Z",
     "iopub.status.idle": "2022-08-21T14:13:58.793571Z",
     "shell.execute_reply": "2022-08-21T14:13:58.792603Z"
    },
    "papermill": {
     "duration": 0.040944,
     "end_time": "2022-08-21T14:13:58.795802",
     "exception": false,
     "start_time": "2022-08-21T14:13:58.754858",
     "status": "completed"
    },
    "tags": []
   },
   "outputs": [
    {
     "data": {
      "text/html": [
       "<div>\n",
       "<style scoped>\n",
       "    .dataframe tbody tr th:only-of-type {\n",
       "        vertical-align: middle;\n",
       "    }\n",
       "\n",
       "    .dataframe tbody tr th {\n",
       "        vertical-align: top;\n",
       "    }\n",
       "\n",
       "    .dataframe thead th {\n",
       "        text-align: right;\n",
       "    }\n",
       "</style>\n",
       "<table border=\"1\" class=\"dataframe\">\n",
       "  <thead>\n",
       "    <tr style=\"text-align: right;\">\n",
       "      <th></th>\n",
       "      <th>item_name</th>\n",
       "      <th>item_id</th>\n",
       "      <th>item_category_id</th>\n",
       "      <th>item_category_name</th>\n",
       "    </tr>\n",
       "  </thead>\n",
       "  <tbody>\n",
       "    <tr>\n",
       "      <th>0</th>\n",
       "      <td>! ВО ВЛАСТИ НАВАЖДЕНИЯ (ПЛАСТ.)         D</td>\n",
       "      <td>0</td>\n",
       "      <td>40</td>\n",
       "      <td>Кино - DVD</td>\n",
       "    </tr>\n",
       "    <tr>\n",
       "      <th>1</th>\n",
       "      <td>***В ЛУЧАХ СЛАВЫ   (UNV)                    D</td>\n",
       "      <td>2</td>\n",
       "      <td>40</td>\n",
       "      <td>Кино - DVD</td>\n",
       "    </tr>\n",
       "    <tr>\n",
       "      <th>2</th>\n",
       "      <td>***ГОЛУБАЯ ВОЛНА  (Univ)                      D</td>\n",
       "      <td>3</td>\n",
       "      <td>40</td>\n",
       "      <td>Кино - DVD</td>\n",
       "    </tr>\n",
       "    <tr>\n",
       "      <th>3</th>\n",
       "      <td>***КОРОБКА (СТЕКЛО)                       D</td>\n",
       "      <td>4</td>\n",
       "      <td>40</td>\n",
       "      <td>Кино - DVD</td>\n",
       "    </tr>\n",
       "    <tr>\n",
       "      <th>4</th>\n",
       "      <td>***НОВЫЕ АМЕРИКАНСКИЕ ГРАФФИТИ  (UNI)         ...</td>\n",
       "      <td>5</td>\n",
       "      <td>40</td>\n",
       "      <td>Кино - DVD</td>\n",
       "    </tr>\n",
       "    <tr>\n",
       "      <th>...</th>\n",
       "      <td>...</td>\n",
       "      <td>...</td>\n",
       "      <td>...</td>\n",
       "      <td>...</td>\n",
       "    </tr>\n",
       "    <tr>\n",
       "      <th>22165</th>\n",
       "      <td>Элемент питания GP 15AU (LR6) - Блистер 2 шт U...</td>\n",
       "      <td>22095</td>\n",
       "      <td>83</td>\n",
       "      <td>Элементы питания</td>\n",
       "    </tr>\n",
       "    <tr>\n",
       "      <th>22166</th>\n",
       "      <td>Элемент питания GP 24A (LR03) - Блистер 2 шт</td>\n",
       "      <td>22096</td>\n",
       "      <td>83</td>\n",
       "      <td>Элементы питания</td>\n",
       "    </tr>\n",
       "    <tr>\n",
       "      <th>22167</th>\n",
       "      <td>Элемент питания GP 24AU (LR03) - Блистер 2 шт ...</td>\n",
       "      <td>22097</td>\n",
       "      <td>83</td>\n",
       "      <td>Элементы питания</td>\n",
       "    </tr>\n",
       "    <tr>\n",
       "      <th>22168</th>\n",
       "      <td>Элемент питания КОСМОС LR03 2*BL</td>\n",
       "      <td>22098</td>\n",
       "      <td>83</td>\n",
       "      <td>Элементы питания</td>\n",
       "    </tr>\n",
       "    <tr>\n",
       "      <th>22169</th>\n",
       "      <td>Элемент питания СТАРТ ZT 15A (LR6) - Блистер 2 шт</td>\n",
       "      <td>22099</td>\n",
       "      <td>83</td>\n",
       "      <td>Элементы питания</td>\n",
       "    </tr>\n",
       "  </tbody>\n",
       "</table>\n",
       "<p>22170 rows × 4 columns</p>\n",
       "</div>"
      ],
      "text/plain": [
       "                                               item_name  item_id  \\\n",
       "0              ! ВО ВЛАСТИ НАВАЖДЕНИЯ (ПЛАСТ.)         D        0   \n",
       "1          ***В ЛУЧАХ СЛАВЫ   (UNV)                    D        2   \n",
       "2        ***ГОЛУБАЯ ВОЛНА  (Univ)                      D        3   \n",
       "3            ***КОРОБКА (СТЕКЛО)                       D        4   \n",
       "4      ***НОВЫЕ АМЕРИКАНСКИЕ ГРАФФИТИ  (UNI)         ...        5   \n",
       "...                                                  ...      ...   \n",
       "22165  Элемент питания GP 15AU (LR6) - Блистер 2 шт U...    22095   \n",
       "22166       Элемент питания GP 24A (LR03) - Блистер 2 шт    22096   \n",
       "22167  Элемент питания GP 24AU (LR03) - Блистер 2 шт ...    22097   \n",
       "22168                   Элемент питания КОСМОС LR03 2*BL    22098   \n",
       "22169  Элемент питания СТАРТ ZT 15A (LR6) - Блистер 2 шт    22099   \n",
       "\n",
       "       item_category_id item_category_name  \n",
       "0                    40         Кино - DVD  \n",
       "1                    40         Кино - DVD  \n",
       "2                    40         Кино - DVD  \n",
       "3                    40         Кино - DVD  \n",
       "4                    40         Кино - DVD  \n",
       "...                 ...                ...  \n",
       "22165                83   Элементы питания  \n",
       "22166                83   Элементы питания  \n",
       "22167                83   Элементы питания  \n",
       "22168                83   Элементы питания  \n",
       "22169                83   Элементы питания  \n",
       "\n",
       "[22170 rows x 4 columns]"
      ]
     },
     "execution_count": 11,
     "metadata": {},
     "output_type": "execute_result"
    }
   ],
   "source": [
    "items_df = pd.merge(items_df, categories_df, on=\"item_category_id\")\n",
    "items_df"
   ]
  },
  {
   "cell_type": "markdown",
   "id": "c75b5d1d",
   "metadata": {
    "papermill": {
     "duration": 0.009407,
     "end_time": "2022-08-21T14:13:58.815026",
     "exception": false,
     "start_time": "2022-08-21T14:13:58.805619",
     "status": "completed"
    },
    "tags": []
   },
   "source": [
    "<p style=\"font-size:20px;\">Our items data is ready, we will start analyzing it and making inferences..</p>"
   ]
  },
  {
   "cell_type": "code",
   "execution_count": 12,
   "id": "ee53ddf1",
   "metadata": {
    "execution": {
     "iopub.execute_input": "2022-08-21T14:13:58.836717Z",
     "iopub.status.busy": "2022-08-21T14:13:58.836301Z",
     "iopub.status.idle": "2022-08-21T14:13:58.872008Z",
     "shell.execute_reply": "2022-08-21T14:13:58.870163Z"
    },
    "papermill": {
     "duration": 0.051737,
     "end_time": "2022-08-21T14:13:58.876640",
     "exception": false,
     "start_time": "2022-08-21T14:13:58.824903",
     "status": "completed"
    },
    "tags": []
   },
   "outputs": [
    {
     "name": "stdout",
     "output_type": "stream",
     "text": [
      "                  item_name  item_id  item_category_name\n",
      "item_category_id                                        \n",
      "0                         4        4                   4\n",
      "1                         2        2                   2\n",
      "2                        75       75                  75\n",
      "3                        34       34                  34\n",
      "4                        15       15                  15\n",
      "...                     ...      ...                 ...\n",
      "79                        1        1                   1\n",
      "80                        6        6                   6\n",
      "81                        7        7                   7\n",
      "82                        8        8                   8\n",
      "83                       15       15                  15\n",
      "\n",
      "[84 rows x 3 columns]\n",
      "         item_name  item_category_id  item_category_name\n",
      "item_id                                                 \n",
      "0                1                 1                   1\n",
      "1                1                 1                   1\n",
      "2                1                 1                   1\n",
      "3                1                 1                   1\n",
      "4                1                 1                   1\n",
      "...            ...               ...                 ...\n",
      "22165            1                 1                   1\n",
      "22166            1                 1                   1\n",
      "22167            1                 1                   1\n",
      "22168            1                 1                   1\n",
      "22169            1                 1                   1\n",
      "\n",
      "[22170 rows x 3 columns]\n"
     ]
    }
   ],
   "source": [
    "print(items_df.groupby(['item_category_id']).count())\n",
    "print(items_df.groupby(['item_id']).count())"
   ]
  },
  {
   "cell_type": "markdown",
   "id": "ce8260f5",
   "metadata": {
    "papermill": {
     "duration": 0.010511,
     "end_time": "2022-08-21T14:13:58.898524",
     "exception": false,
     "start_time": "2022-08-21T14:13:58.888013",
     "status": "completed"
    },
    "tags": []
   },
   "source": [
    "<p style=\"font-size:20px;\">Our data contains <b>84</b> different categories and <b>22170</b> different items.</p>\n",
    "<p style=\"font-size:15px;\">Let's find most and least populated categories of items</p>"
   ]
  },
  {
   "cell_type": "code",
   "execution_count": 13,
   "id": "f1c8bb3e",
   "metadata": {
    "execution": {
     "iopub.execute_input": "2022-08-21T14:13:58.921765Z",
     "iopub.status.busy": "2022-08-21T14:13:58.920931Z",
     "iopub.status.idle": "2022-08-21T14:14:00.220401Z",
     "shell.execute_reply": "2022-08-21T14:14:00.219100Z"
    },
    "papermill": {
     "duration": 1.314276,
     "end_time": "2022-08-21T14:14:00.223389",
     "exception": false,
     "start_time": "2022-08-21T14:13:58.909113",
     "status": "completed"
    },
    "tags": []
   },
   "outputs": [
    {
     "data": {
      "image/png": "[encoded data removed]",
      "text/plain": [
       "<Figure size 1584x360 with 1 Axes>"
      ]
     },
     "metadata": {
      "needs_background": "light"
     },
     "output_type": "display_data"
    }
   ],
   "source": [
    "categories=items_df.groupby(['item_category_id']).count()\n",
    "categories=categories.sort_values(by='item_id',ascending=False)\n",
    "categories=categories.iloc[0:-1].reset_index()\n",
    "plt.figure(figsize=(22,5))\n",
    "ax= sns.barplot(x = categories.item_category_id, y = categories.item_id)\n",
    "\n",
    "plt.title(\"Category Distribution of Items\")\n",
    "plt.ylabel('Item Count', fontsize=15)\n",
    "plt.xlabel('Category', fontsize=15)\n",
    "plt.show()"
   ]
  },
  {
   "cell_type": "markdown",
   "id": "2ee6b774",
   "metadata": {
    "papermill": {
     "duration": 0.010394,
     "end_time": "2022-08-21T14:14:00.244581",
     "exception": false,
     "start_time": "2022-08-21T14:14:00.234187",
     "status": "completed"
    },
    "tags": []
   },
   "source": [
    "<p style=\"font-size:20px;\">Apparently, category <b>40</b> with DVD has the largest cut in categories while most of them are relatively small.</p>"
   ]
  },
  {
   "cell_type": "markdown",
   "id": "05c162c0",
   "metadata": {
    "papermill": {
     "duration": 0.010007,
     "end_time": "2022-08-21T14:14:00.265239",
     "exception": false,
     "start_time": "2022-08-21T14:14:00.255232",
     "status": "completed"
    },
    "tags": []
   },
   "source": [
    "<h1>Final Assessment</h1>\n",
    "<p style=\"font-size:25px\">We analyzed our valid data, we created graphs, plots etc. Now it comes to our final assesment. Data is not detailed enough for a deep inference, but we can still have a valid opinion about our past observations:</p>\n",
    "<ul style=\"font-size:20px; margin:1em;\"><li>Sales don't change so much depending on different month periods. </li>\n",
    "<li>Some of days have much more sale rates, but it doesn't vary a lot.</li>\n",
    "<li>Sales are relatively seasonal, in the first few months sales peaked, then it is in a declining phase.</li>\n",
    "<li>There is a high variance between shops, some of them with really good sale counts while others remain stagnant.</li>\n",
    "<li>There are so many Item categories but only few of them dominates the item inventory in general.</li>\n",
    "<li>It is not possible to have a very accurate prediction without more extensive data.</li></ul>\n",
    "\n",
    "<h1> I thank them for hosting this competition, have a good day.</h1>"
   ]
  }
 ],
 "metadata": {
  "kernelspec": {
   "display_name": "Python 3",
   "language": "python",
   "name": "python3"
  },
  "language_info": {
   "codemirror_mode": {
    "name": "ipython",
    "version": 3
   },
   "file_extension": ".py",
   "mimetype": "text/x-python",
   "name": "python",
   "nbconvert_exporter": "python",
   "pygments_lexer": "ipython3",
   "version": "3.7.12"
  },
  "papermill": {
   "default_parameters": {},
   "duration": 36.378619,
   "end_time": "2022-08-21T14:14:01.200251",
   "environment_variables": {},
   "exception": null,
   "input_path": "__notebook__.ipynb",
   "output_path": "__notebook__.ipynb",
   "parameters": {},
   "start_time": "2022-08-21T14:13:24.821632",
   "version": "2.3.4"
  }
 },
 "nbformat": 4,
 "nbformat_minor": 5
}
