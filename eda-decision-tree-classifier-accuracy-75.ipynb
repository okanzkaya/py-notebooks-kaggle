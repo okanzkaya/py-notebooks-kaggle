{
 "cells": [
  {
   "cell_type": "markdown",
   "id": "132f0a4e",
   "metadata": {
    "papermill": {
     "duration": 0.03415,
     "end_time": "2022-02-28T08:05:48.915264",
     "exception": false,
     "start_time": "2022-02-28T08:05:48.881114",
     "status": "completed"
    },
    "tags": []
   },
   "source": [
    "hi, upvotes are appreciated and welcome!"
   ]
  },
  {
   "cell_type": "code",
   "execution_count": 1,
   "id": "42437dfb",
   "metadata": {
    "_cell_guid": "b1076dfc-b9ad-4769-8c92-a6c4dae69d19",
    "_uuid": "8f2839f25d086af736a60e9eeb907d3b93b6e0e5",
    "execution": {
     "iopub.execute_input": "2022-02-28T08:05:48.982413Z",
     "iopub.status.busy": "2022-02-28T08:05:48.981176Z",
     "iopub.status.idle": "2022-02-28T08:05:48.991172Z",
     "shell.execute_reply": "2022-02-28T08:05:48.991756Z",
     "shell.execute_reply.started": "2022-02-27T20:44:04.370333Z"
    },
    "papermill": {
     "duration": 0.045012,
     "end_time": "2022-02-28T08:05:48.992067",
     "exception": false,
     "start_time": "2022-02-28T08:05:48.947055",
     "status": "completed"
    },
    "tags": []
   },
   "outputs": [],
   "source": [
    "import numpy as np # linear algebra\n",
    "import pandas as pd # data processing, CSV file I/O (e.g. pd.read_csv)\n",
    "import matplotlib.pyplot as plt # graphs, plots etc.\n",
    "import math # math module"
   ]
  },
  {
   "cell_type": "markdown",
   "id": "e3cabe91",
   "metadata": {
    "papermill": {
     "duration": 0.032358,
     "end_time": "2022-02-28T08:05:49.055862",
     "exception": false,
     "start_time": "2022-02-28T08:05:49.023504",
     "status": "completed"
    },
    "tags": []
   },
   "source": [
    "we imported the libraries those we need in this competition"
   ]
  },
  {
   "cell_type": "code",
   "execution_count": 2,
   "id": "89d41ea3",
   "metadata": {
    "execution": {
     "iopub.execute_input": "2022-02-28T08:05:49.122534Z",
     "iopub.status.busy": "2022-02-28T08:05:49.121852Z",
     "iopub.status.idle": "2022-02-28T08:05:49.160980Z",
     "shell.execute_reply": "2022-02-28T08:05:49.161583Z",
     "shell.execute_reply.started": "2022-02-27T20:44:04.379622Z"
    },
    "papermill": {
     "duration": 0.0744,
     "end_time": "2022-02-28T08:05:49.161770",
     "exception": false,
     "start_time": "2022-02-28T08:05:49.087370",
     "status": "completed"
    },
    "tags": []
   },
   "outputs": [],
   "source": [
    "df_train = pd.read_csv('../input/titanic/train.csv')\n",
    "df_test = pd.read_csv('../input/titanic/test.csv')\n",
    "df_combined = df_train.append(df_test, ignore_index=False)"
   ]
  },
  {
   "cell_type": "markdown",
   "id": "0360991e",
   "metadata": {
    "papermill": {
     "duration": 0.030751,
     "end_time": "2022-02-28T08:05:49.223456",
     "exception": false,
     "start_time": "2022-02-28T08:05:49.192705",
     "status": "completed"
    },
    "tags": []
   },
   "source": [
    "we combined our train and test dataset temporarily for useful reasons and getting information about whole dataset"
   ]
  },
  {
   "cell_type": "code",
   "execution_count": 3,
   "id": "3f7f8192",
   "metadata": {
    "execution": {
     "iopub.execute_input": "2022-02-28T08:05:49.294760Z",
     "iopub.status.busy": "2022-02-28T08:05:49.293459Z",
     "iopub.status.idle": "2022-02-28T08:05:49.319973Z",
     "shell.execute_reply": "2022-02-28T08:05:49.319409Z",
     "shell.execute_reply.started": "2022-02-27T20:44:04.420767Z"
    },
    "papermill": {
     "duration": 0.06232,
     "end_time": "2022-02-28T08:05:49.320124",
     "exception": false,
     "start_time": "2022-02-28T08:05:49.257804",
     "status": "completed"
    },
    "tags": []
   },
   "outputs": [
    {
     "data": {
      "text/html": [
       "<div>\n",
       "<style scoped>\n",
       "    .dataframe tbody tr th:only-of-type {\n",
       "        vertical-align: middle;\n",
       "    }\n",
       "\n",
       "    .dataframe tbody tr th {\n",
       "        vertical-align: top;\n",
       "    }\n",
       "\n",
       "    .dataframe thead th {\n",
       "        text-align: right;\n",
       "    }\n",
       "</style>\n",
       "<table border=\"1\" class=\"dataframe\">\n",
       "  <thead>\n",
       "    <tr style=\"text-align: right;\">\n",
       "      <th></th>\n",
       "      <th>PassengerId</th>\n",
       "      <th>Survived</th>\n",
       "      <th>Pclass</th>\n",
       "      <th>Name</th>\n",
       "      <th>Sex</th>\n",
       "      <th>Age</th>\n",
       "      <th>SibSp</th>\n",
       "      <th>Parch</th>\n",
       "      <th>Ticket</th>\n",
       "      <th>Fare</th>\n",
       "      <th>Cabin</th>\n",
       "      <th>Embarked</th>\n",
       "    </tr>\n",
       "  </thead>\n",
       "  <tbody>\n",
       "    <tr>\n",
       "      <th>0</th>\n",
       "      <td>1</td>\n",
       "      <td>0.0</td>\n",
       "      <td>3</td>\n",
       "      <td>Braund, Mr. Owen Harris</td>\n",
       "      <td>male</td>\n",
       "      <td>22.0</td>\n",
       "      <td>1</td>\n",
       "      <td>0</td>\n",
       "      <td>A/5 21171</td>\n",
       "      <td>7.2500</td>\n",
       "      <td>NaN</td>\n",
       "      <td>S</td>\n",
       "    </tr>\n",
       "    <tr>\n",
       "      <th>1</th>\n",
       "      <td>2</td>\n",
       "      <td>1.0</td>\n",
       "      <td>1</td>\n",
       "      <td>Cumings, Mrs. John Bradley (Florence Briggs Th...</td>\n",
       "      <td>female</td>\n",
       "      <td>38.0</td>\n",
       "      <td>1</td>\n",
       "      <td>0</td>\n",
       "      <td>PC 17599</td>\n",
       "      <td>71.2833</td>\n",
       "      <td>C85</td>\n",
       "      <td>C</td>\n",
       "    </tr>\n",
       "    <tr>\n",
       "      <th>2</th>\n",
       "      <td>3</td>\n",
       "      <td>1.0</td>\n",
       "      <td>3</td>\n",
       "      <td>Heikkinen, Miss. Laina</td>\n",
       "      <td>female</td>\n",
       "      <td>26.0</td>\n",
       "      <td>0</td>\n",
       "      <td>0</td>\n",
       "      <td>STON/O2. 3101282</td>\n",
       "      <td>7.9250</td>\n",
       "      <td>NaN</td>\n",
       "      <td>S</td>\n",
       "    </tr>\n",
       "    <tr>\n",
       "      <th>3</th>\n",
       "      <td>4</td>\n",
       "      <td>1.0</td>\n",
       "      <td>1</td>\n",
       "      <td>Futrelle, Mrs. Jacques Heath (Lily May Peel)</td>\n",
       "      <td>female</td>\n",
       "      <td>35.0</td>\n",
       "      <td>1</td>\n",
       "      <td>0</td>\n",
       "      <td>113803</td>\n",
       "      <td>53.1000</td>\n",
       "      <td>C123</td>\n",
       "      <td>S</td>\n",
       "    </tr>\n",
       "    <tr>\n",
       "      <th>4</th>\n",
       "      <td>5</td>\n",
       "      <td>0.0</td>\n",
       "      <td>3</td>\n",
       "      <td>Allen, Mr. William Henry</td>\n",
       "      <td>male</td>\n",
       "      <td>35.0</td>\n",
       "      <td>0</td>\n",
       "      <td>0</td>\n",
       "      <td>373450</td>\n",
       "      <td>8.0500</td>\n",
       "      <td>NaN</td>\n",
       "      <td>S</td>\n",
       "    </tr>\n",
       "  </tbody>\n",
       "</table>\n",
       "</div>"
      ],
      "text/plain": [
       "   PassengerId  Survived  Pclass  \\\n",
       "0            1       0.0       3   \n",
       "1            2       1.0       1   \n",
       "2            3       1.0       3   \n",
       "3            4       1.0       1   \n",
       "4            5       0.0       3   \n",
       "\n",
       "                                                Name     Sex   Age  SibSp  \\\n",
       "0                            Braund, Mr. Owen Harris    male  22.0      1   \n",
       "1  Cumings, Mrs. John Bradley (Florence Briggs Th...  female  38.0      1   \n",
       "2                             Heikkinen, Miss. Laina  female  26.0      0   \n",
       "3       Futrelle, Mrs. Jacques Heath (Lily May Peel)  female  35.0      1   \n",
       "4                           Allen, Mr. William Henry    male  35.0      0   \n",
       "\n",
       "   Parch            Ticket     Fare Cabin Embarked  \n",
       "0      0         A/5 21171   7.2500   NaN        S  \n",
       "1      0          PC 17599  71.2833   C85        C  \n",
       "2      0  STON/O2. 3101282   7.9250   NaN        S  \n",
       "3      0            113803  53.1000  C123        S  \n",
       "4      0            373450   8.0500   NaN        S  "
      ]
     },
     "execution_count": 3,
     "metadata": {},
     "output_type": "execute_result"
    }
   ],
   "source": [
    "df_combined.head()"
   ]
  },
  {
   "cell_type": "markdown",
   "id": "4b3b1274",
   "metadata": {
    "papermill": {
     "duration": 0.034346,
     "end_time": "2022-02-28T08:05:49.387403",
     "exception": false,
     "start_time": "2022-02-28T08:05:49.353057",
     "status": "completed"
    },
    "tags": []
   },
   "source": [
    "we will follow these steps:\n",
    "1. Visualize graphs and find correlations between features and survived rate\n",
    "2. Cleanse our data and deal with NaN values\n",
    "3. Concatenate related columns for concise features\n",
    "4. Remove features which is not related with survival chance\n",
    "5. Try different ML algorithms to get best scores and sort them with respect to final scores"
   ]
  },
  {
   "cell_type": "code",
   "execution_count": 4,
   "id": "cac8bad9",
   "metadata": {
    "execution": {
     "iopub.execute_input": "2022-02-28T08:05:49.455942Z",
     "iopub.status.busy": "2022-02-28T08:05:49.455181Z",
     "iopub.status.idle": "2022-02-28T08:05:49.470498Z",
     "shell.execute_reply": "2022-02-28T08:05:49.470986Z",
     "shell.execute_reply.started": "2022-02-27T20:44:04.439885Z"
    },
    "papermill": {
     "duration": 0.050509,
     "end_time": "2022-02-28T08:05:49.471169",
     "exception": false,
     "start_time": "2022-02-28T08:05:49.420660",
     "status": "completed"
    },
    "tags": []
   },
   "outputs": [
    {
     "data": {
      "text/plain": [
       "Pclass\n",
       "1    0.629630\n",
       "2    0.472826\n",
       "3    0.242363\n",
       "Name: Survived, dtype: float64"
      ]
     },
     "execution_count": 4,
     "metadata": {},
     "output_type": "execute_result"
    }
   ],
   "source": [
    "Pclass = df_combined.groupby(['Pclass']).mean()\n",
    "Pclass['Survived'].head()"
   ]
  },
  {
   "cell_type": "markdown",
   "id": "6d08cb49",
   "metadata": {
    "papermill": {
     "duration": 0.034111,
     "end_time": "2022-02-28T08:05:49.538466",
     "exception": false,
     "start_time": "2022-02-28T08:05:49.504355",
     "status": "completed"
    },
    "tags": []
   },
   "source": [
    "as wee see, first ticket class has the highest survival rate and third one has the lowest\n",
    "\n",
    "Let's visualize it!"
   ]
  },
  {
   "cell_type": "code",
   "execution_count": 5,
   "id": "684452e8",
   "metadata": {
    "execution": {
     "iopub.execute_input": "2022-02-28T08:05:49.610054Z",
     "iopub.status.busy": "2022-02-28T08:05:49.609051Z",
     "iopub.status.idle": "2022-02-28T08:05:49.841439Z",
     "shell.execute_reply": "2022-02-28T08:05:49.841963Z",
     "shell.execute_reply.started": "2022-02-27T20:44:04.459701Z"
    },
    "papermill": {
     "duration": 0.270222,
     "end_time": "2022-02-28T08:05:49.842138",
     "exception": false,
     "start_time": "2022-02-28T08:05:49.571916",
     "status": "completed"
    },
    "tags": []
   },
   "outputs": [
    {
     "data": {
      "image/png": "[encoded data removed]",
      "text/plain": [
       "<Figure size 864x360 with 1 Axes>"
      ]
     },
     "metadata": {
      "needs_background": "light"
     },
     "output_type": "display_data"
    }
   ],
   "source": [
    "X = ['Ticket Class 1','Ticket Class 2','Ticket Class 3']\n",
    "plclsses = [Pclass['Survived'].head().values[0],Pclass['Survived'].head().values[1],Pclass['Survived'].head().values[2]]\n",
    "  \n",
    "X_axis = np.arange(len(X))\n",
    "f, ax = plt.subplots(figsize=(12, 5))\n",
    "plt.bar(X_axis, plclsses, 0.5, color=['red', 'green', 'blue'])\n",
    "  \n",
    "plt.xticks(X_axis, X)\n",
    "plt.xlabel(\"Ticket Classes\", fontsize=20)\n",
    "plt.ylabel(\"Survival Rate\", fontsize=20)\n",
    "plt.title(\"Relation between Ticket Class and Survival Rates\", fontsize=15)\n",
    "plt.show()"
   ]
  },
  {
   "cell_type": "code",
   "execution_count": 6,
   "id": "88d89c2c",
   "metadata": {
    "execution": {
     "iopub.execute_input": "2022-02-28T08:05:49.918683Z",
     "iopub.status.busy": "2022-02-28T08:05:49.917630Z",
     "iopub.status.idle": "2022-02-28T08:05:49.925702Z",
     "shell.execute_reply": "2022-02-28T08:05:49.926260Z",
     "shell.execute_reply.started": "2022-02-27T20:44:04.646769Z"
    },
    "papermill": {
     "duration": 0.047797,
     "end_time": "2022-02-28T08:05:49.926456",
     "exception": false,
     "start_time": "2022-02-28T08:05:49.878659",
     "status": "completed"
    },
    "tags": []
   },
   "outputs": [
    {
     "data": {
      "text/plain": [
       "Sex\n",
       "female    0.742038\n",
       "male      0.188908\n",
       "Name: Survived, dtype: float64"
      ]
     },
     "execution_count": 6,
     "metadata": {},
     "output_type": "execute_result"
    }
   ],
   "source": [
    "Gender = df_combined.groupby(['Sex']).mean()\n",
    "Gender['Survived'].head()"
   ]
  },
  {
   "cell_type": "markdown",
   "id": "cc6ff730",
   "metadata": {
    "papermill": {
     "duration": 0.033064,
     "end_time": "2022-02-28T08:05:49.994212",
     "exception": false,
     "start_time": "2022-02-28T08:05:49.961148",
     "status": "completed"
    },
    "tags": []
   },
   "source": [
    "as we see, female passengers has way higher survival rates than male passengers.\n",
    "\n",
    "Let's visualize it!"
   ]
  },
  {
   "cell_type": "code",
   "execution_count": 7,
   "id": "a943049a",
   "metadata": {
    "execution": {
     "iopub.execute_input": "2022-02-28T08:05:50.067943Z",
     "iopub.status.busy": "2022-02-28T08:05:50.066940Z",
     "iopub.status.idle": "2022-02-28T08:05:50.354150Z",
     "shell.execute_reply": "2022-02-28T08:05:50.354760Z",
     "shell.execute_reply.started": "2022-02-27T20:44:04.660182Z"
    },
    "papermill": {
     "duration": 0.326392,
     "end_time": "2022-02-28T08:05:50.354935",
     "exception": false,
     "start_time": "2022-02-28T08:05:50.028543",
     "status": "completed"
    },
    "tags": []
   },
   "outputs": [
    {
     "data": {
      "image/png": "[encoded data removed]",
      "text/plain": [
       "<Figure size 720x360 with 1 Axes>"
      ]
     },
     "metadata": {
      "needs_background": "light"
     },
     "output_type": "display_data"
    }
   ],
   "source": [
    "X = ['Female','Male']\n",
    "pltclsses = [Gender['Survived'].head().values[0],Gender['Survived'].head().values[1]]\n",
    "  \n",
    "X_axis = np.arange(len(X))\n",
    "f, ax = plt.subplots(figsize=(10, 5))\n",
    "plt.bar(X_axis, pltclsses, 0.5, color=['green', 'red'])\n",
    "  \n",
    "plt.xticks(X_axis, X)\n",
    "plt.xlabel(\"Genders\", fontsize=20)\n",
    "plt.ylabel(\"Survival Rate\", fontsize=20)\n",
    "plt.title(\"Relation between Genders and Survival Rates\", fontsize=15)\n",
    "plt.show()"
   ]
  },
  {
   "cell_type": "code",
   "execution_count": 8,
   "id": "f2540c14",
   "metadata": {
    "execution": {
     "iopub.execute_input": "2022-02-28T08:05:50.430712Z",
     "iopub.status.busy": "2022-02-28T08:05:50.429681Z",
     "iopub.status.idle": "2022-02-28T08:05:50.434599Z",
     "shell.execute_reply": "2022-02-28T08:05:50.435157Z",
     "shell.execute_reply.started": "2022-02-27T20:44:04.837648Z"
    },
    "papermill": {
     "duration": 0.043512,
     "end_time": "2022-02-28T08:05:50.435368",
     "exception": false,
     "start_time": "2022-02-28T08:05:50.391856",
     "status": "completed"
    },
    "tags": []
   },
   "outputs": [],
   "source": [
    "#x = df_combined.loc[df_combined['Parch'] > 0]\n",
    "df_combined = df_combined.reset_index(drop=True) # reseting indices to prevent any type of issues"
   ]
  },
  {
   "cell_type": "code",
   "execution_count": 9,
   "id": "71b4dda1",
   "metadata": {
    "execution": {
     "iopub.execute_input": "2022-02-28T08:05:50.520532Z",
     "iopub.status.busy": "2022-02-28T08:05:50.519764Z",
     "iopub.status.idle": "2022-02-28T08:05:50.643838Z",
     "shell.execute_reply": "2022-02-28T08:05:50.644343Z",
     "shell.execute_reply.started": "2022-02-27T20:44:04.844698Z"
    },
    "papermill": {
     "duration": 0.172993,
     "end_time": "2022-02-28T08:05:50.644540",
     "exception": false,
     "start_time": "2022-02-28T08:05:50.471547",
     "status": "completed"
    },
    "tags": []
   },
   "outputs": [
    {
     "data": {
      "text/html": [
       "<div>\n",
       "<style scoped>\n",
       "    .dataframe tbody tr th:only-of-type {\n",
       "        vertical-align: middle;\n",
       "    }\n",
       "\n",
       "    .dataframe tbody tr th {\n",
       "        vertical-align: top;\n",
       "    }\n",
       "\n",
       "    .dataframe thead th {\n",
       "        text-align: right;\n",
       "    }\n",
       "</style>\n",
       "<table border=\"1\" class=\"dataframe\">\n",
       "  <thead>\n",
       "    <tr style=\"text-align: right;\">\n",
       "      <th></th>\n",
       "      <th>PassengerId</th>\n",
       "      <th>Survived</th>\n",
       "      <th>Pclass</th>\n",
       "      <th>Age</th>\n",
       "      <th>SibSp</th>\n",
       "      <th>Parch</th>\n",
       "      <th>Fare</th>\n",
       "    </tr>\n",
       "  </thead>\n",
       "  <tbody>\n",
       "    <tr>\n",
       "      <th>count</th>\n",
       "      <td>1309.000000</td>\n",
       "      <td>891.000000</td>\n",
       "      <td>1309.000000</td>\n",
       "      <td>1309.000000</td>\n",
       "      <td>1309.000000</td>\n",
       "      <td>1309.000000</td>\n",
       "      <td>1308.000000</td>\n",
       "    </tr>\n",
       "    <tr>\n",
       "      <th>mean</th>\n",
       "      <td>655.000000</td>\n",
       "      <td>0.383838</td>\n",
       "      <td>2.294882</td>\n",
       "      <td>30.197861</td>\n",
       "      <td>0.498854</td>\n",
       "      <td>0.385027</td>\n",
       "      <td>33.295479</td>\n",
       "    </tr>\n",
       "    <tr>\n",
       "      <th>std</th>\n",
       "      <td>378.020061</td>\n",
       "      <td>0.486592</td>\n",
       "      <td>0.837836</td>\n",
       "      <td>14.176470</td>\n",
       "      <td>1.041658</td>\n",
       "      <td>0.865560</td>\n",
       "      <td>51.758668</td>\n",
       "    </tr>\n",
       "    <tr>\n",
       "      <th>min</th>\n",
       "      <td>1.000000</td>\n",
       "      <td>0.000000</td>\n",
       "      <td>1.000000</td>\n",
       "      <td>1.000000</td>\n",
       "      <td>0.000000</td>\n",
       "      <td>0.000000</td>\n",
       "      <td>0.000000</td>\n",
       "    </tr>\n",
       "    <tr>\n",
       "      <th>25%</th>\n",
       "      <td>328.000000</td>\n",
       "      <td>0.000000</td>\n",
       "      <td>2.000000</td>\n",
       "      <td>21.000000</td>\n",
       "      <td>0.000000</td>\n",
       "      <td>0.000000</td>\n",
       "      <td>7.895800</td>\n",
       "    </tr>\n",
       "    <tr>\n",
       "      <th>50%</th>\n",
       "      <td>655.000000</td>\n",
       "      <td>0.000000</td>\n",
       "      <td>3.000000</td>\n",
       "      <td>29.000000</td>\n",
       "      <td>0.000000</td>\n",
       "      <td>0.000000</td>\n",
       "      <td>14.454200</td>\n",
       "    </tr>\n",
       "    <tr>\n",
       "      <th>75%</th>\n",
       "      <td>982.000000</td>\n",
       "      <td>1.000000</td>\n",
       "      <td>3.000000</td>\n",
       "      <td>39.000000</td>\n",
       "      <td>1.000000</td>\n",
       "      <td>0.000000</td>\n",
       "      <td>31.275000</td>\n",
       "    </tr>\n",
       "    <tr>\n",
       "      <th>max</th>\n",
       "      <td>1309.000000</td>\n",
       "      <td>1.000000</td>\n",
       "      <td>3.000000</td>\n",
       "      <td>80.000000</td>\n",
       "      <td>8.000000</td>\n",
       "      <td>9.000000</td>\n",
       "      <td>512.329200</td>\n",
       "    </tr>\n",
       "  </tbody>\n",
       "</table>\n",
       "</div>"
      ],
      "text/plain": [
       "       PassengerId    Survived       Pclass          Age        SibSp  \\\n",
       "count  1309.000000  891.000000  1309.000000  1309.000000  1309.000000   \n",
       "mean    655.000000    0.383838     2.294882    30.197861     0.498854   \n",
       "std     378.020061    0.486592     0.837836    14.176470     1.041658   \n",
       "min       1.000000    0.000000     1.000000     1.000000     0.000000   \n",
       "25%     328.000000    0.000000     2.000000    21.000000     0.000000   \n",
       "50%     655.000000    0.000000     3.000000    29.000000     0.000000   \n",
       "75%     982.000000    1.000000     3.000000    39.000000     1.000000   \n",
       "max    1309.000000    1.000000     3.000000    80.000000     8.000000   \n",
       "\n",
       "             Parch         Fare  \n",
       "count  1309.000000  1308.000000  \n",
       "mean      0.385027    33.295479  \n",
       "std       0.865560    51.758668  \n",
       "min       0.000000     0.000000  \n",
       "25%       0.000000     7.895800  \n",
       "50%       0.000000    14.454200  \n",
       "75%       0.000000    31.275000  \n",
       "max       9.000000   512.329200  "
      ]
     },
     "execution_count": 9,
     "metadata": {},
     "output_type": "execute_result"
    }
   ],
   "source": [
    "my_mean = math.ceil(df_combined['Age'].mean()) # mean is ~= 30\n",
    "my_std = math.ceil(df_combined['Age'].std()) # std is ~= 15\n",
    "size = df_combined['Age'].isnull().values.sum() # We have 177 NaN values in Age column\n",
    "ageArray = np.random.normal(loc=my_mean, scale=my_std, size=size)\n",
    "for i in range(ageArray.shape[0]):\n",
    "    if ageArray[i] < 0:\n",
    "        ageArray[i] = my_mean\n",
    "\n",
    "ageArray = np.ceil(ageArray)       \n",
    "templ = 0\n",
    "for i, _ in enumerate(df_combined['Age']):\n",
    "    if np.isnan(df_combined.loc[i, 'Age']):\n",
    "        df_combined.loc[i, 'Age'] = ageArray[templ]\n",
    "        templ = templ+1\n",
    "\n",
    "df_combined['Age'] = df_combined['Age'].apply(np.ceil) # Let's ceil the age values, because float numbers are unacceptable as age\n",
    "df_combined.describe()"
   ]
  },
  {
   "cell_type": "code",
   "execution_count": 10,
   "id": "7d136a37",
   "metadata": {
    "execution": {
     "iopub.execute_input": "2022-02-28T08:05:50.722419Z",
     "iopub.status.busy": "2022-02-28T08:05:50.721692Z",
     "iopub.status.idle": "2022-02-28T08:05:50.730094Z",
     "shell.execute_reply": "2022-02-28T08:05:50.730621Z",
     "shell.execute_reply.started": "2022-02-27T20:44:04.974586Z"
    },
    "papermill": {
     "duration": 0.049132,
     "end_time": "2022-02-28T08:05:50.730794",
     "exception": false,
     "start_time": "2022-02-28T08:05:50.681662",
     "status": "completed"
    },
    "tags": []
   },
   "outputs": [
    {
     "data": {
      "text/plain": [
       "PassengerId      int64\n",
       "Survived       float64\n",
       "Pclass           int64\n",
       "Name            object\n",
       "Sex             object\n",
       "Age              int64\n",
       "SibSp            int64\n",
       "Parch            int64\n",
       "Ticket          object\n",
       "Fare           float64\n",
       "Cabin           object\n",
       "Embarked        object\n",
       "dtype: object"
      ]
     },
     "execution_count": 10,
     "metadata": {},
     "output_type": "execute_result"
    }
   ],
   "source": [
    "df_combined.head()\n",
    "df_combined['Age'] = df_combined['Age'].astype(int) # Default data type of Age column was float64, we're gonna use int64 instead\n",
    "df_combined.dtypes"
   ]
  },
  {
   "cell_type": "markdown",
   "id": "14ff0d4a",
   "metadata": {
    "papermill": {
     "duration": 0.037067,
     "end_time": "2022-02-28T08:05:50.804096",
     "exception": false,
     "start_time": "2022-02-28T08:05:50.767029",
     "status": "completed"
    },
    "tags": []
   },
   "source": [
    "as you can notice, there are 2 columns are about the family attributes (sibsp and parch), we can assemble them into two binary features e.g. HasFamily = 0 or 1\n",
    "\n",
    "Let's code it!"
   ]
  },
  {
   "cell_type": "code",
   "execution_count": 11,
   "id": "8bf96387",
   "metadata": {
    "execution": {
     "iopub.execute_input": "2022-02-28T08:05:50.946988Z",
     "iopub.status.busy": "2022-02-28T08:05:50.893094Z",
     "iopub.status.idle": "2022-02-28T08:05:51.794219Z",
     "shell.execute_reply": "2022-02-28T08:05:51.794811Z",
     "shell.execute_reply.started": "2022-02-27T20:44:04.986833Z"
    },
    "papermill": {
     "duration": 0.95229,
     "end_time": "2022-02-28T08:05:51.794995",
     "exception": false,
     "start_time": "2022-02-28T08:05:50.842705",
     "status": "completed"
    },
    "tags": []
   },
   "outputs": [],
   "source": [
    "df_combined['HasFamily'] = 0\n",
    "for x in range(df_combined.shape[0]):\n",
    "    if df_combined.loc[x]['SibSp'] > 0 or df_combined.loc[x]['Parch'] > 0:\n",
    "        df_combined.loc[x ,['HasFamily']] = 1"
   ]
  },
  {
   "cell_type": "markdown",
   "id": "b756bb3f",
   "metadata": {
    "papermill": {
     "duration": 0.035442,
     "end_time": "2022-02-28T08:05:51.866249",
     "exception": false,
     "start_time": "2022-02-28T08:05:51.830807",
     "status": "completed"
    },
    "tags": []
   },
   "source": [
    "now let's check it!"
   ]
  },
  {
   "cell_type": "code",
   "execution_count": 12,
   "id": "f9196370",
   "metadata": {
    "execution": {
     "iopub.execute_input": "2022-02-28T08:05:51.949009Z",
     "iopub.status.busy": "2022-02-28T08:05:51.946002Z",
     "iopub.status.idle": "2022-02-28T08:05:51.964804Z",
     "shell.execute_reply": "2022-02-28T08:05:51.965317Z",
     "shell.execute_reply.started": "2022-02-27T20:44:05.805651Z"
    },
    "papermill": {
     "duration": 0.059829,
     "end_time": "2022-02-28T08:05:51.965534",
     "exception": false,
     "start_time": "2022-02-28T08:05:51.905705",
     "status": "completed"
    },
    "tags": []
   },
   "outputs": [
    {
     "data": {
      "text/html": [
       "<div>\n",
       "<style scoped>\n",
       "    .dataframe tbody tr th:only-of-type {\n",
       "        vertical-align: middle;\n",
       "    }\n",
       "\n",
       "    .dataframe tbody tr th {\n",
       "        vertical-align: top;\n",
       "    }\n",
       "\n",
       "    .dataframe thead th {\n",
       "        text-align: right;\n",
       "    }\n",
       "</style>\n",
       "<table border=\"1\" class=\"dataframe\">\n",
       "  <thead>\n",
       "    <tr style=\"text-align: right;\">\n",
       "      <th></th>\n",
       "      <th>PassengerId</th>\n",
       "      <th>Survived</th>\n",
       "      <th>Pclass</th>\n",
       "      <th>Name</th>\n",
       "      <th>Sex</th>\n",
       "      <th>Age</th>\n",
       "      <th>SibSp</th>\n",
       "      <th>Parch</th>\n",
       "      <th>Ticket</th>\n",
       "      <th>Fare</th>\n",
       "      <th>Cabin</th>\n",
       "      <th>Embarked</th>\n",
       "      <th>HasFamily</th>\n",
       "    </tr>\n",
       "  </thead>\n",
       "  <tbody>\n",
       "    <tr>\n",
       "      <th>1299</th>\n",
       "      <td>1300</td>\n",
       "      <td>NaN</td>\n",
       "      <td>3</td>\n",
       "      <td>Riordan, Miss. Johanna Hannah\"\"</td>\n",
       "      <td>female</td>\n",
       "      <td>49</td>\n",
       "      <td>0</td>\n",
       "      <td>0</td>\n",
       "      <td>334915</td>\n",
       "      <td>7.7208</td>\n",
       "      <td>NaN</td>\n",
       "      <td>Q</td>\n",
       "      <td>0</td>\n",
       "    </tr>\n",
       "    <tr>\n",
       "      <th>1300</th>\n",
       "      <td>1301</td>\n",
       "      <td>NaN</td>\n",
       "      <td>3</td>\n",
       "      <td>Peacock, Miss. Treasteall</td>\n",
       "      <td>female</td>\n",
       "      <td>3</td>\n",
       "      <td>1</td>\n",
       "      <td>1</td>\n",
       "      <td>SOTON/O.Q. 3101315</td>\n",
       "      <td>13.7750</td>\n",
       "      <td>NaN</td>\n",
       "      <td>S</td>\n",
       "      <td>1</td>\n",
       "    </tr>\n",
       "    <tr>\n",
       "      <th>1301</th>\n",
       "      <td>1302</td>\n",
       "      <td>NaN</td>\n",
       "      <td>3</td>\n",
       "      <td>Naughton, Miss. Hannah</td>\n",
       "      <td>female</td>\n",
       "      <td>23</td>\n",
       "      <td>0</td>\n",
       "      <td>0</td>\n",
       "      <td>365237</td>\n",
       "      <td>7.7500</td>\n",
       "      <td>NaN</td>\n",
       "      <td>Q</td>\n",
       "      <td>0</td>\n",
       "    </tr>\n",
       "    <tr>\n",
       "      <th>1302</th>\n",
       "      <td>1303</td>\n",
       "      <td>NaN</td>\n",
       "      <td>1</td>\n",
       "      <td>Minahan, Mrs. William Edward (Lillian E Thorpe)</td>\n",
       "      <td>female</td>\n",
       "      <td>37</td>\n",
       "      <td>1</td>\n",
       "      <td>0</td>\n",
       "      <td>19928</td>\n",
       "      <td>90.0000</td>\n",
       "      <td>C78</td>\n",
       "      <td>Q</td>\n",
       "      <td>1</td>\n",
       "    </tr>\n",
       "    <tr>\n",
       "      <th>1303</th>\n",
       "      <td>1304</td>\n",
       "      <td>NaN</td>\n",
       "      <td>3</td>\n",
       "      <td>Henriksson, Miss. Jenny Lovisa</td>\n",
       "      <td>female</td>\n",
       "      <td>28</td>\n",
       "      <td>0</td>\n",
       "      <td>0</td>\n",
       "      <td>347086</td>\n",
       "      <td>7.7750</td>\n",
       "      <td>NaN</td>\n",
       "      <td>S</td>\n",
       "      <td>0</td>\n",
       "    </tr>\n",
       "    <tr>\n",
       "      <th>1304</th>\n",
       "      <td>1305</td>\n",
       "      <td>NaN</td>\n",
       "      <td>3</td>\n",
       "      <td>Spector, Mr. Woolf</td>\n",
       "      <td>male</td>\n",
       "      <td>44</td>\n",
       "      <td>0</td>\n",
       "      <td>0</td>\n",
       "      <td>A.5. 3236</td>\n",
       "      <td>8.0500</td>\n",
       "      <td>NaN</td>\n",
       "      <td>S</td>\n",
       "      <td>0</td>\n",
       "    </tr>\n",
       "    <tr>\n",
       "      <th>1305</th>\n",
       "      <td>1306</td>\n",
       "      <td>NaN</td>\n",
       "      <td>1</td>\n",
       "      <td>Oliva y Ocana, Dona. Fermina</td>\n",
       "      <td>female</td>\n",
       "      <td>39</td>\n",
       "      <td>0</td>\n",
       "      <td>0</td>\n",
       "      <td>PC 17758</td>\n",
       "      <td>108.9000</td>\n",
       "      <td>C105</td>\n",
       "      <td>C</td>\n",
       "      <td>0</td>\n",
       "    </tr>\n",
       "    <tr>\n",
       "      <th>1306</th>\n",
       "      <td>1307</td>\n",
       "      <td>NaN</td>\n",
       "      <td>3</td>\n",
       "      <td>Saether, Mr. Simon Sivertsen</td>\n",
       "      <td>male</td>\n",
       "      <td>39</td>\n",
       "      <td>0</td>\n",
       "      <td>0</td>\n",
       "      <td>SOTON/O.Q. 3101262</td>\n",
       "      <td>7.2500</td>\n",
       "      <td>NaN</td>\n",
       "      <td>S</td>\n",
       "      <td>0</td>\n",
       "    </tr>\n",
       "    <tr>\n",
       "      <th>1307</th>\n",
       "      <td>1308</td>\n",
       "      <td>NaN</td>\n",
       "      <td>3</td>\n",
       "      <td>Ware, Mr. Frederick</td>\n",
       "      <td>male</td>\n",
       "      <td>52</td>\n",
       "      <td>0</td>\n",
       "      <td>0</td>\n",
       "      <td>359309</td>\n",
       "      <td>8.0500</td>\n",
       "      <td>NaN</td>\n",
       "      <td>S</td>\n",
       "      <td>0</td>\n",
       "    </tr>\n",
       "    <tr>\n",
       "      <th>1308</th>\n",
       "      <td>1309</td>\n",
       "      <td>NaN</td>\n",
       "      <td>3</td>\n",
       "      <td>Peter, Master. Michael J</td>\n",
       "      <td>male</td>\n",
       "      <td>34</td>\n",
       "      <td>1</td>\n",
       "      <td>1</td>\n",
       "      <td>2668</td>\n",
       "      <td>22.3583</td>\n",
       "      <td>NaN</td>\n",
       "      <td>C</td>\n",
       "      <td>1</td>\n",
       "    </tr>\n",
       "  </tbody>\n",
       "</table>\n",
       "</div>"
      ],
      "text/plain": [
       "      PassengerId  Survived  Pclass  \\\n",
       "1299         1300       NaN       3   \n",
       "1300         1301       NaN       3   \n",
       "1301         1302       NaN       3   \n",
       "1302         1303       NaN       1   \n",
       "1303         1304       NaN       3   \n",
       "1304         1305       NaN       3   \n",
       "1305         1306       NaN       1   \n",
       "1306         1307       NaN       3   \n",
       "1307         1308       NaN       3   \n",
       "1308         1309       NaN       3   \n",
       "\n",
       "                                                 Name     Sex  Age  SibSp  \\\n",
       "1299                  Riordan, Miss. Johanna Hannah\"\"  female   49      0   \n",
       "1300                        Peacock, Miss. Treasteall  female    3      1   \n",
       "1301                           Naughton, Miss. Hannah  female   23      0   \n",
       "1302  Minahan, Mrs. William Edward (Lillian E Thorpe)  female   37      1   \n",
       "1303                   Henriksson, Miss. Jenny Lovisa  female   28      0   \n",
       "1304                               Spector, Mr. Woolf    male   44      0   \n",
       "1305                     Oliva y Ocana, Dona. Fermina  female   39      0   \n",
       "1306                     Saether, Mr. Simon Sivertsen    male   39      0   \n",
       "1307                              Ware, Mr. Frederick    male   52      0   \n",
       "1308                         Peter, Master. Michael J    male   34      1   \n",
       "\n",
       "      Parch              Ticket      Fare Cabin Embarked  HasFamily  \n",
       "1299      0              334915    7.7208   NaN        Q          0  \n",
       "1300      1  SOTON/O.Q. 3101315   13.7750   NaN        S          1  \n",
       "1301      0              365237    7.7500   NaN        Q          0  \n",
       "1302      0               19928   90.0000   C78        Q          1  \n",
       "1303      0              347086    7.7750   NaN        S          0  \n",
       "1304      0           A.5. 3236    8.0500   NaN        S          0  \n",
       "1305      0            PC 17758  108.9000  C105        C          0  \n",
       "1306      0  SOTON/O.Q. 3101262    7.2500   NaN        S          0  \n",
       "1307      0              359309    8.0500   NaN        S          0  \n",
       "1308      1                2668   22.3583   NaN        C          1  "
      ]
     },
     "execution_count": 12,
     "metadata": {},
     "output_type": "execute_result"
    }
   ],
   "source": [
    "df_combined.tail(10)"
   ]
  },
  {
   "cell_type": "markdown",
   "id": "b5149144",
   "metadata": {
    "papermill": {
     "duration": 0.039108,
     "end_time": "2022-02-28T08:05:52.043966",
     "exception": false,
     "start_time": "2022-02-28T08:05:52.004858",
     "status": "completed"
    },
    "tags": []
   },
   "source": [
    "now it works, we have a new column named as HasFamily so now we can get rid of SibSp and Parch columns\n",
    "\n",
    "name feature is also not really helpful for our algorithm we can drop it too\n",
    "\n",
    "also we're gonna drop unknown 'Survived' values (PassengerId and Ticket Number is also not really decisive for our algorithm)"
   ]
  },
  {
   "cell_type": "code",
   "execution_count": 13,
   "id": "54a0eabe",
   "metadata": {
    "execution": {
     "iopub.execute_input": "2022-02-28T08:05:52.127893Z",
     "iopub.status.busy": "2022-02-28T08:05:52.126277Z",
     "iopub.status.idle": "2022-02-28T08:05:52.151810Z",
     "shell.execute_reply": "2022-02-28T08:05:52.152314Z",
     "shell.execute_reply.started": "2022-02-27T20:44:05.823529Z"
    },
    "papermill": {
     "duration": 0.069492,
     "end_time": "2022-02-28T08:05:52.152525",
     "exception": false,
     "start_time": "2022-02-28T08:05:52.083033",
     "status": "completed"
    },
    "tags": []
   },
   "outputs": [
    {
     "data": {
      "text/html": [
       "<div>\n",
       "<style scoped>\n",
       "    .dataframe tbody tr th:only-of-type {\n",
       "        vertical-align: middle;\n",
       "    }\n",
       "\n",
       "    .dataframe tbody tr th {\n",
       "        vertical-align: top;\n",
       "    }\n",
       "\n",
       "    .dataframe thead th {\n",
       "        text-align: right;\n",
       "    }\n",
       "</style>\n",
       "<table border=\"1\" class=\"dataframe\">\n",
       "  <thead>\n",
       "    <tr style=\"text-align: right;\">\n",
       "      <th></th>\n",
       "      <th>Survived</th>\n",
       "      <th>Pclass</th>\n",
       "      <th>Age</th>\n",
       "      <th>Fare</th>\n",
       "      <th>HasFamily</th>\n",
       "    </tr>\n",
       "  </thead>\n",
       "  <tbody>\n",
       "    <tr>\n",
       "      <th>count</th>\n",
       "      <td>891.000000</td>\n",
       "      <td>891.000000</td>\n",
       "      <td>891.000000</td>\n",
       "      <td>891.000000</td>\n",
       "      <td>891.000000</td>\n",
       "    </tr>\n",
       "    <tr>\n",
       "      <th>mean</th>\n",
       "      <td>0.383838</td>\n",
       "      <td>2.308642</td>\n",
       "      <td>30.130191</td>\n",
       "      <td>32.204208</td>\n",
       "      <td>0.397306</td>\n",
       "    </tr>\n",
       "    <tr>\n",
       "      <th>std</th>\n",
       "      <td>0.486592</td>\n",
       "      <td>0.836071</td>\n",
       "      <td>14.292644</td>\n",
       "      <td>49.693429</td>\n",
       "      <td>0.489615</td>\n",
       "    </tr>\n",
       "    <tr>\n",
       "      <th>min</th>\n",
       "      <td>0.000000</td>\n",
       "      <td>1.000000</td>\n",
       "      <td>1.000000</td>\n",
       "      <td>0.000000</td>\n",
       "      <td>0.000000</td>\n",
       "    </tr>\n",
       "    <tr>\n",
       "      <th>25%</th>\n",
       "      <td>0.000000</td>\n",
       "      <td>2.000000</td>\n",
       "      <td>21.000000</td>\n",
       "      <td>7.910400</td>\n",
       "      <td>0.000000</td>\n",
       "    </tr>\n",
       "    <tr>\n",
       "      <th>50%</th>\n",
       "      <td>0.000000</td>\n",
       "      <td>3.000000</td>\n",
       "      <td>29.000000</td>\n",
       "      <td>14.454200</td>\n",
       "      <td>0.000000</td>\n",
       "    </tr>\n",
       "    <tr>\n",
       "      <th>75%</th>\n",
       "      <td>1.000000</td>\n",
       "      <td>3.000000</td>\n",
       "      <td>39.000000</td>\n",
       "      <td>31.000000</td>\n",
       "      <td>1.000000</td>\n",
       "    </tr>\n",
       "    <tr>\n",
       "      <th>max</th>\n",
       "      <td>1.000000</td>\n",
       "      <td>3.000000</td>\n",
       "      <td>80.000000</td>\n",
       "      <td>512.329200</td>\n",
       "      <td>1.000000</td>\n",
       "    </tr>\n",
       "  </tbody>\n",
       "</table>\n",
       "</div>"
      ],
      "text/plain": [
       "         Survived      Pclass         Age        Fare   HasFamily\n",
       "count  891.000000  891.000000  891.000000  891.000000  891.000000\n",
       "mean     0.383838    2.308642   30.130191   32.204208    0.397306\n",
       "std      0.486592    0.836071   14.292644   49.693429    0.489615\n",
       "min      0.000000    1.000000    1.000000    0.000000    0.000000\n",
       "25%      0.000000    2.000000   21.000000    7.910400    0.000000\n",
       "50%      0.000000    3.000000   29.000000   14.454200    0.000000\n",
       "75%      1.000000    3.000000   39.000000   31.000000    1.000000\n",
       "max      1.000000    3.000000   80.000000  512.329200    1.000000"
      ]
     },
     "execution_count": 13,
     "metadata": {},
     "output_type": "execute_result"
    }
   ],
   "source": [
    "df_combined.drop(['SibSp', 'Parch', 'Name', 'PassengerId', 'Ticket'], inplace=True, axis=1)\n",
    "df_combined = df_combined[df_combined['Survived'].notna()] \n",
    "df_combined.describe()"
   ]
  },
  {
   "cell_type": "markdown",
   "id": "63a62489",
   "metadata": {
    "papermill": {
     "duration": 0.037928,
     "end_time": "2022-02-28T08:05:52.229033",
     "exception": false,
     "start_time": "2022-02-28T08:05:52.191105",
     "status": "completed"
    },
    "tags": []
   },
   "source": [
    "as you can see above, we have some NaN age values\n",
    "\n",
    "but we are not gonna drop them, we will replace them with mean value of age instead"
   ]
  },
  {
   "cell_type": "markdown",
   "id": "984dcb01",
   "metadata": {
    "papermill": {
     "duration": 0.039436,
     "end_time": "2022-02-28T08:05:52.308803",
     "exception": false,
     "start_time": "2022-02-28T08:05:52.269367",
     "status": "completed"
    },
    "tags": []
   },
   "source": [
    "We're gonna categorise our Age label to graphing it in more convenient way"
   ]
  },
  {
   "cell_type": "code",
   "execution_count": 14,
   "id": "c709de66",
   "metadata": {
    "execution": {
     "iopub.execute_input": "2022-02-28T08:05:52.392344Z",
     "iopub.status.busy": "2022-02-28T08:05:52.391618Z",
     "iopub.status.idle": "2022-02-28T08:05:52.408302Z",
     "shell.execute_reply": "2022-02-28T08:05:52.407751Z",
     "shell.execute_reply.started": "2022-02-27T20:44:05.85869Z"
    },
    "papermill": {
     "duration": 0.059606,
     "end_time": "2022-02-28T08:05:52.408474",
     "exception": false,
     "start_time": "2022-02-28T08:05:52.348868",
     "status": "completed"
    },
    "tags": []
   },
   "outputs": [
    {
     "data": {
      "text/plain": [
       "Age\n",
       "1    0.800000\n",
       "2    0.300000\n",
       "3    0.833333\n",
       "4    0.700000\n",
       "5    1.000000\n",
       "6    0.333333\n",
       "7    0.400000\n",
       "8    0.333333\n",
       "Name: Survived, dtype: float64"
      ]
     },
     "execution_count": 14,
     "metadata": {},
     "output_type": "execute_result"
    }
   ],
   "source": [
    "df_combined['AgeCategory'] = pd.cut(df_combined['Age'], 8, labels=['0-10', '10-20', '20-30', '30-40', '40-50', '50-60', '70-80', '80-90'])\n",
    "Age = df_combined.groupby(['Age']).mean()\n",
    "Age['Survived'].head(8)"
   ]
  },
  {
   "cell_type": "markdown",
   "id": "7ccd8f30",
   "metadata": {
    "papermill": {
     "duration": 0.038009,
     "end_time": "2022-02-28T08:05:52.484376",
     "exception": false,
     "start_time": "2022-02-28T08:05:52.446367",
     "status": "completed"
    },
    "tags": []
   },
   "source": [
    "now we have 8 age bins\n",
    "\n",
    "as we can see highest survival rate belongs to third age category (20-30)\n",
    "\n",
    "lowest survival rate belongs to the seventh category (70-80)\n",
    "\n",
    "now we can visualize it to understand better"
   ]
  },
  {
   "cell_type": "code",
   "execution_count": 15,
   "id": "6a710d5f",
   "metadata": {
    "execution": {
     "iopub.execute_input": "2022-02-28T08:05:52.567523Z",
     "iopub.status.busy": "2022-02-28T08:05:52.566745Z",
     "iopub.status.idle": "2022-02-28T08:05:52.818035Z",
     "shell.execute_reply": "2022-02-28T08:05:52.817351Z",
     "shell.execute_reply.started": "2022-02-27T20:44:05.875891Z"
    },
    "papermill": {
     "duration": 0.293943,
     "end_time": "2022-02-28T08:05:52.818184",
     "exception": false,
     "start_time": "2022-02-28T08:05:52.524241",
     "status": "completed"
    },
    "tags": []
   },
   "outputs": [
    {
     "data": {
      "image/png": "[encoded data removed]",
      "text/plain": [
       "<Figure size 1440x720 with 1 Axes>"
      ]
     },
     "metadata": {
      "needs_background": "light"
     },
     "output_type": "display_data"
    }
   ],
   "source": [
    "X = ['0-10','10-20', '20-30', '30-40', '40-50', '50-60', '60-70', '70-80']\n",
    "pltclsses = [Age['Survived'].head(8).values[0], Age['Survived'].head(8).values[1], Age['Survived'].head(8).values[2], Age['Survived'].head(8).values[3],\n",
    "             Age['Survived'].head(8).values[4], Age['Survived'].head(8).values[5], Age['Survived'].head(8).values[6], Age['Survived'].head(8).values[7]]\n",
    "  \n",
    "X_axis = np.arange(len(X))\n",
    "f, ax = plt.subplots(figsize=(20, 10))\n",
    "plt.bar(X_axis, pltclsses, 0.25, color=['green', 'red', 'pink', 'yellow', 'purple', 'black', 'brown', 'blue'])\n",
    "  \n",
    "plt.xticks(X_axis, X)\n",
    "plt.xlabel(\"Ages\", fontsize=20)\n",
    "plt.ylabel(\"Survival Rate\", fontsize=20)\n",
    "plt.title(\"Relation between Ages and Survival Rates\", fontsize=15)\n",
    "plt.show()\n"
   ]
  },
  {
   "cell_type": "code",
   "execution_count": 16,
   "id": "dcd3080b",
   "metadata": {
    "execution": {
     "iopub.execute_input": "2022-02-28T08:05:52.904286Z",
     "iopub.status.busy": "2022-02-28T08:05:52.903596Z",
     "iopub.status.idle": "2022-02-28T08:05:52.913356Z",
     "shell.execute_reply": "2022-02-28T08:05:52.913891Z",
     "shell.execute_reply.started": "2022-02-27T20:44:06.125629Z"
    },
    "papermill": {
     "duration": 0.056539,
     "end_time": "2022-02-28T08:05:52.914067",
     "exception": false,
     "start_time": "2022-02-28T08:05:52.857528",
     "status": "completed"
    },
    "tags": []
   },
   "outputs": [
    {
     "data": {
      "text/plain": [
       "Survived       891\n",
       "Pclass         891\n",
       "Sex            891\n",
       "Age            891\n",
       "Fare           891\n",
       "Cabin          204\n",
       "Embarked       889\n",
       "HasFamily      891\n",
       "AgeCategory    891\n",
       "dtype: int64"
      ]
     },
     "execution_count": 16,
     "metadata": {},
     "output_type": "execute_result"
    }
   ],
   "source": [
    "df_combined.isnull().sum()\n",
    "df_combined.count()"
   ]
  },
  {
   "cell_type": "markdown",
   "id": "b4dc0526",
   "metadata": {
    "papermill": {
     "duration": 0.041,
     "end_time": "2022-02-28T08:05:52.995130",
     "exception": false,
     "start_time": "2022-02-28T08:05:52.954130",
     "status": "completed"
    },
    "tags": []
   },
   "source": [
    "we have mostly NaN Cabin values, hence we will drop them too "
   ]
  },
  {
   "cell_type": "code",
   "execution_count": 17,
   "id": "1eaa3917",
   "metadata": {
    "execution": {
     "iopub.execute_input": "2022-02-28T08:05:53.080987Z",
     "iopub.status.busy": "2022-02-28T08:05:53.080219Z",
     "iopub.status.idle": "2022-02-28T08:05:53.086493Z",
     "shell.execute_reply": "2022-02-28T08:05:53.087031Z",
     "shell.execute_reply.started": "2022-02-27T20:44:06.13776Z"
    },
    "papermill": {
     "duration": 0.04966,
     "end_time": "2022-02-28T08:05:53.087204",
     "exception": false,
     "start_time": "2022-02-28T08:05:53.037544",
     "status": "completed"
    },
    "tags": []
   },
   "outputs": [],
   "source": [
    "df_combined.drop(['Cabin', 'AgeCategory'], axis=1, inplace=True) # and also our temporary AgeCategory column\n",
    "df_combined = df_combined[df_combined['Embarked'].notna()]"
   ]
  },
  {
   "cell_type": "code",
   "execution_count": 18,
   "id": "e0118041",
   "metadata": {
    "execution": {
     "iopub.execute_input": "2022-02-28T08:05:53.171789Z",
     "iopub.status.busy": "2022-02-28T08:05:53.171064Z",
     "iopub.status.idle": "2022-02-28T08:05:53.185852Z",
     "shell.execute_reply": "2022-02-28T08:05:53.186560Z",
     "shell.execute_reply.started": "2022-02-27T20:44:06.147105Z"
    },
    "papermill": {
     "duration": 0.059167,
     "end_time": "2022-02-28T08:05:53.186754",
     "exception": false,
     "start_time": "2022-02-28T08:05:53.127587",
     "status": "completed"
    },
    "tags": []
   },
   "outputs": [
    {
     "data": {
      "text/html": [
       "<div>\n",
       "<style scoped>\n",
       "    .dataframe tbody tr th:only-of-type {\n",
       "        vertical-align: middle;\n",
       "    }\n",
       "\n",
       "    .dataframe tbody tr th {\n",
       "        vertical-align: top;\n",
       "    }\n",
       "\n",
       "    .dataframe thead th {\n",
       "        text-align: right;\n",
       "    }\n",
       "</style>\n",
       "<table border=\"1\" class=\"dataframe\">\n",
       "  <thead>\n",
       "    <tr style=\"text-align: right;\">\n",
       "      <th></th>\n",
       "      <th>Survived</th>\n",
       "      <th>Pclass</th>\n",
       "      <th>Sex</th>\n",
       "      <th>Age</th>\n",
       "      <th>Fare</th>\n",
       "      <th>Embarked</th>\n",
       "      <th>HasFamily</th>\n",
       "    </tr>\n",
       "  </thead>\n",
       "  <tbody>\n",
       "    <tr>\n",
       "      <th>0</th>\n",
       "      <td>0.0</td>\n",
       "      <td>3</td>\n",
       "      <td>male</td>\n",
       "      <td>22</td>\n",
       "      <td>7.2500</td>\n",
       "      <td>S</td>\n",
       "      <td>1</td>\n",
       "    </tr>\n",
       "    <tr>\n",
       "      <th>1</th>\n",
       "      <td>1.0</td>\n",
       "      <td>1</td>\n",
       "      <td>female</td>\n",
       "      <td>38</td>\n",
       "      <td>71.2833</td>\n",
       "      <td>C</td>\n",
       "      <td>1</td>\n",
       "    </tr>\n",
       "    <tr>\n",
       "      <th>2</th>\n",
       "      <td>1.0</td>\n",
       "      <td>3</td>\n",
       "      <td>female</td>\n",
       "      <td>26</td>\n",
       "      <td>7.9250</td>\n",
       "      <td>S</td>\n",
       "      <td>0</td>\n",
       "    </tr>\n",
       "    <tr>\n",
       "      <th>3</th>\n",
       "      <td>1.0</td>\n",
       "      <td>1</td>\n",
       "      <td>female</td>\n",
       "      <td>35</td>\n",
       "      <td>53.1000</td>\n",
       "      <td>S</td>\n",
       "      <td>1</td>\n",
       "    </tr>\n",
       "    <tr>\n",
       "      <th>4</th>\n",
       "      <td>0.0</td>\n",
       "      <td>3</td>\n",
       "      <td>male</td>\n",
       "      <td>35</td>\n",
       "      <td>8.0500</td>\n",
       "      <td>S</td>\n",
       "      <td>0</td>\n",
       "    </tr>\n",
       "  </tbody>\n",
       "</table>\n",
       "</div>"
      ],
      "text/plain": [
       "   Survived  Pclass     Sex  Age     Fare Embarked  HasFamily\n",
       "0       0.0       3    male   22   7.2500        S          1\n",
       "1       1.0       1  female   38  71.2833        C          1\n",
       "2       1.0       3  female   26   7.9250        S          0\n",
       "3       1.0       1  female   35  53.1000        S          1\n",
       "4       0.0       3    male   35   8.0500        S          0"
      ]
     },
     "execution_count": 18,
     "metadata": {},
     "output_type": "execute_result"
    }
   ],
   "source": [
    "df_combined.isnull().sum() # = 0\n",
    "df_combined.head()"
   ]
  },
  {
   "cell_type": "markdown",
   "id": "7118330e",
   "metadata": {
    "papermill": {
     "duration": 0.042954,
     "end_time": "2022-02-28T08:05:53.269907",
     "exception": false,
     "start_time": "2022-02-28T08:05:53.226953",
     "status": "completed"
    },
    "tags": []
   },
   "source": [
    "now our dataset is ready to train!\n",
    "\n",
    "we will split it before training"
   ]
  },
  {
   "cell_type": "code",
   "execution_count": 19,
   "id": "0e964a2b",
   "metadata": {
    "execution": {
     "iopub.execute_input": "2022-02-28T08:05:53.356540Z",
     "iopub.status.busy": "2022-02-28T08:05:53.355746Z",
     "iopub.status.idle": "2022-02-28T08:05:54.484061Z",
     "shell.execute_reply": "2022-02-28T08:05:54.483382Z",
     "shell.execute_reply.started": "2022-02-27T20:44:06.169783Z"
    },
    "papermill": {
     "duration": 1.172496,
     "end_time": "2022-02-28T08:05:54.484208",
     "exception": false,
     "start_time": "2022-02-28T08:05:53.311712",
     "status": "completed"
    },
    "tags": []
   },
   "outputs": [],
   "source": [
    "temp_df = pd.get_dummies(df_combined) # we are creating dummies for model compatibility\n",
    "from sklearn.model_selection import train_test_split\n",
    "\n",
    "train, test = train_test_split(temp_df, test_size=0.2)\n",
    "#train = train.to_numpy()\n",
    "#test = test.to_numpy()"
   ]
  },
  {
   "cell_type": "markdown",
   "id": "5643a63e",
   "metadata": {
    "papermill": {
     "duration": 0.041025,
     "end_time": "2022-02-28T08:05:54.568290",
     "exception": false,
     "start_time": "2022-02-28T08:05:54.527265",
     "status": "completed"
    },
    "tags": []
   },
   "source": [
    "now we have train and test datasets\n",
    "\n",
    "let's create our x and y sets!"
   ]
  },
  {
   "cell_type": "code",
   "execution_count": 20,
   "id": "bd4b4032",
   "metadata": {
    "execution": {
     "iopub.execute_input": "2022-02-28T08:05:54.656117Z",
     "iopub.status.busy": "2022-02-28T08:05:54.655424Z",
     "iopub.status.idle": "2022-02-28T08:05:54.662282Z",
     "shell.execute_reply": "2022-02-28T08:05:54.662879Z",
     "shell.execute_reply.started": "2022-02-27T20:44:06.186382Z"
    },
    "papermill": {
     "duration": 0.052795,
     "end_time": "2022-02-28T08:05:54.663061",
     "exception": false,
     "start_time": "2022-02-28T08:05:54.610266",
     "status": "completed"
    },
    "tags": []
   },
   "outputs": [],
   "source": [
    "y_train = train['Survived']\n",
    "X_train = train.loc[:, train.columns != 'Survived']\n",
    "y_test = test['Survived']\n",
    "X_test = test.loc[:, test.columns != 'Survived'] "
   ]
  },
  {
   "cell_type": "markdown",
   "id": "4d72b173",
   "metadata": {
    "papermill": {
     "duration": 0.039091,
     "end_time": "2022-02-28T08:05:54.743310",
     "exception": false,
     "start_time": "2022-02-28T08:05:54.704219",
     "status": "completed"
    },
    "tags": []
   },
   "source": [
    "now all done! finally we're ready for training stage"
   ]
  },
  {
   "cell_type": "code",
   "execution_count": 21,
   "id": "83c54ef2",
   "metadata": {
    "execution": {
     "iopub.execute_input": "2022-02-28T08:05:54.831568Z",
     "iopub.status.busy": "2022-02-28T08:05:54.830819Z",
     "iopub.status.idle": "2022-02-28T08:05:55.007166Z",
     "shell.execute_reply": "2022-02-28T08:05:55.006463Z",
     "shell.execute_reply.started": "2022-02-27T20:44:06.198399Z"
    },
    "papermill": {
     "duration": 0.223167,
     "end_time": "2022-02-28T08:05:55.007347",
     "exception": false,
     "start_time": "2022-02-28T08:05:54.784180",
     "status": "completed"
    },
    "tags": []
   },
   "outputs": [
    {
     "name": "stdout",
     "output_type": "stream",
     "text": [
      "Accuracy: 0.7359550561797753\n"
     ]
    }
   ],
   "source": [
    "from sklearn import tree\n",
    "from sklearn import metrics \n",
    "\n",
    "model = tree.DecisionTreeClassifier()\n",
    "model = model.fit(X_train, y_train)\n",
    "\n",
    "y_pred = model.predict(X_test)\n",
    "\n",
    "print(\"Accuracy:\", metrics.accuracy_score(y_test, y_pred))"
   ]
  }
 ],
 "metadata": {
  "kernelspec": {
   "display_name": "Python 3",
   "language": "python",
   "name": "python3"
  },
  "language_info": {
   "codemirror_mode": {
    "name": "ipython",
    "version": 3
   },
   "file_extension": ".py",
   "mimetype": "text/x-python",
   "name": "python",
   "nbconvert_exporter": "python",
   "pygments_lexer": "ipython3",
   "version": "3.7.12"
  },
  "papermill": {
   "default_parameters": {},
   "duration": 18.574323,
   "end_time": "2022-02-28T08:05:55.860401",
   "environment_variables": {},
   "exception": null,
   "input_path": "__notebook__.ipynb",
   "output_path": "__notebook__.ipynb",
   "parameters": {},
   "start_time": "2022-02-28T08:05:37.286078",
   "version": "2.3.3"
  }
 },
 "nbformat": 4,
 "nbformat_minor": 5
}
